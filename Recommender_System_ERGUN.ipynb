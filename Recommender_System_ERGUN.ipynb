{
  "nbformat": 4,
  "nbformat_minor": 0,
  "metadata": {
    "colab": {
      "name": "Recommender_System_ERGUN.ipynb",
      "provenance": [],
      "collapsed_sections": [
        "oGHXrB4km39c",
        "ppA9_53lniEu",
        "-ypjk17antHH",
        "kLR9zUCBJ8az",
        "PSXThgmvJMxV",
        "-tddmBrBX_ej",
        "-jqrvfbQoTRw"
      ]
    },
    "kernelspec": {
      "name": "python3",
      "display_name": "Python 3"
    },
    "language_info": {
      "name": "python"
    }
  },
  "cells": [
    {
      "cell_type": "code",
      "metadata": {
        "colab": {
          "base_uri": "https://localhost:8080/"
        },
        "id": "QU55sYhx5Ilr",
        "outputId": "11d45b5c-c28b-4cf6-e8de-e1a0224de043"
      },
      "source": [
        "from google.colab import drive\n",
        "drive.mount('/content/gdrive')"
      ],
      "execution_count": 45,
      "outputs": [
        {
          "output_type": "stream",
          "text": [
            "Drive already mounted at /content/gdrive; to attempt to forcibly remount, call drive.mount(\"/content/gdrive\", force_remount=True).\n"
          ],
          "name": "stdout"
        }
      ]
    },
    {
      "cell_type": "markdown",
      "metadata": {
        "id": "09RuAwPWEnUv"
      },
      "source": [
        "# PRACTICE 2 \n",
        "RECOMMENDER SYSTEM \n",
        "\n",
        "\n",
        "\n",
        "> ERGUN Emrullah\n",
        "\n",
        "\n",
        "\n",
        "\n"
      ]
    },
    {
      "cell_type": "markdown",
      "metadata": {
        "id": "zLmeL8XLE_AJ"
      },
      "source": [
        "This practice aim to train us to create a recommender system. \n",
        "The goal is defined as follows:\n",
        "\n",
        "\n",
        "1.   Construct a recommender system for the given dataset \n",
        "2.   Try all the metrics you can and recommender system concepts\n",
        "\n",
        "We will, in order to fulfill our goals try three types of recommenders systems:\n",
        "Broadly, recommender systems can be classified into 3 types:\n",
        "\n",
        "* Simple recommenders: offer generalized recommendations to every user, \n",
        "based on movie popularity and/or genre. The basic idea behind this system is that movies that are more popular and critically acclaimed will have a higher probability of being liked by the average audience. IMDB Top 250 is an example of this system.\n",
        "\n",
        "* Content-based recommenders: suggest similar items based on a particular item. This system uses item metadata, such as genre, director, description, actors, etc. for movies, to make these recommendations. The general idea behind these recommender systems is that if a person liked a particular item, he or she will also like an item that is similar to it.\n",
        "\n",
        "* Collaborative filtering engines: these systems try to predict the rating or preference that a user would give an item-based on past ratings and preferences of other users. Collaborative filters do not require item metadata like its content-based counterparts."
      ]
    },
    {
      "cell_type": "markdown",
      "metadata": {
        "id": "sGcAfXLcFFpO"
      },
      "source": [
        "The dataset concentrate a large number of books. It contains six million ratings for ten thousand most popular (with most ratings) books. There are also:\n",
        "\n",
        "1. books marked to read by the users\n",
        "2. book metadata (author, year, etc.)\n",
        "3. tags/shelves/genres"
      ]
    },
    {
      "cell_type": "markdown",
      "metadata": {
        "id": "C8f2TuF7mt-S"
      },
      "source": [
        "# 1 . Loading datasets and libraries"
      ]
    },
    {
      "cell_type": "code",
      "metadata": {
        "id": "liPW7Xne5UjW"
      },
      "source": [
        "%matplotlib inline\n",
        "\n",
        "import pandas as pd\n",
        "\n",
        "rating = pd.read_csv( '/content/gdrive/MyDrive/UPM_ALUMNOS_2021/LSMA/RECOMMENDER SYSTEMS/Practice_3_Recommenders/goodbooks-10k-master/ratings.csv' )\n",
        "tr = pd.read_csv( '/content/gdrive/MyDrive/UPM_ALUMNOS_2021/LSMA/RECOMMENDER SYSTEMS/Practice_3_Recommenders/goodbooks-10k-master/to_read.csv' )\n",
        "b = pd.read_csv( '/content/gdrive/MyDrive/UPM_ALUMNOS_2021/LSMA/RECOMMENDER SYSTEMS/Practice_3_Recommenders/goodbooks-10k-master/books.csv' )\n",
        "\n",
        "t = pd.read_csv( '/content/gdrive/MyDrive/UPM_ALUMNOS_2021/LSMA/RECOMMENDER SYSTEMS/Practice_3_Recommenders/goodbooks-10k-master/tags.csv' )\n",
        "bt = pd.read_csv( '/content/gdrive/MyDrive/UPM_ALUMNOS_2021/LSMA/RECOMMENDER SYSTEMS/Practice_3_Recommenders/goodbooks-10k-master/book_tags.csv')"
      ],
      "execution_count": 46,
      "outputs": []
    },
    {
      "cell_type": "markdown",
      "metadata": {
        "id": "JKQiclBC5l8Y"
      },
      "source": [
        "Loading useful libraries"
      ]
    },
    {
      "cell_type": "code",
      "metadata": {
        "id": "7gph2T-S5tE6"
      },
      "source": [
        "import numpy as np"
      ],
      "execution_count": 47,
      "outputs": []
    },
    {
      "cell_type": "markdown",
      "metadata": {
        "id": "PPYhhpC_mfzl"
      },
      "source": [
        "##  Exploratory Data Analyse "
      ]
    },
    {
      "cell_type": "markdown",
      "metadata": {
        "id": "q16MvFojmmj_"
      },
      "source": [
        "\n",
        "\n",
        "1. Ratings\n",
        "\n"
      ]
    },
    {
      "cell_type": "code",
      "metadata": {
        "colab": {
          "base_uri": "https://localhost:8080/",
          "height": 196
        },
        "id": "4LcejawomfRl",
        "outputId": "bb3911c0-3093-49d8-d8ce-99d72c55e0e5"
      },
      "source": [
        "rating.head()"
      ],
      "execution_count": 48,
      "outputs": [
        {
          "output_type": "execute_result",
          "data": {
            "text/html": [
              "<div>\n",
              "<style scoped>\n",
              "    .dataframe tbody tr th:only-of-type {\n",
              "        vertical-align: middle;\n",
              "    }\n",
              "\n",
              "    .dataframe tbody tr th {\n",
              "        vertical-align: top;\n",
              "    }\n",
              "\n",
              "    .dataframe thead th {\n",
              "        text-align: right;\n",
              "    }\n",
              "</style>\n",
              "<table border=\"1\" class=\"dataframe\">\n",
              "  <thead>\n",
              "    <tr style=\"text-align: right;\">\n",
              "      <th></th>\n",
              "      <th>user_id</th>\n",
              "      <th>book_id</th>\n",
              "      <th>rating</th>\n",
              "    </tr>\n",
              "  </thead>\n",
              "  <tbody>\n",
              "    <tr>\n",
              "      <th>0</th>\n",
              "      <td>1</td>\n",
              "      <td>258</td>\n",
              "      <td>5</td>\n",
              "    </tr>\n",
              "    <tr>\n",
              "      <th>1</th>\n",
              "      <td>2</td>\n",
              "      <td>4081</td>\n",
              "      <td>4</td>\n",
              "    </tr>\n",
              "    <tr>\n",
              "      <th>2</th>\n",
              "      <td>2</td>\n",
              "      <td>260</td>\n",
              "      <td>5</td>\n",
              "    </tr>\n",
              "    <tr>\n",
              "      <th>3</th>\n",
              "      <td>2</td>\n",
              "      <td>9296</td>\n",
              "      <td>5</td>\n",
              "    </tr>\n",
              "    <tr>\n",
              "      <th>4</th>\n",
              "      <td>2</td>\n",
              "      <td>2318</td>\n",
              "      <td>3</td>\n",
              "    </tr>\n",
              "  </tbody>\n",
              "</table>\n",
              "</div>"
            ],
            "text/plain": [
              "   user_id  book_id  rating\n",
              "0        1      258       5\n",
              "1        2     4081       4\n",
              "2        2      260       5\n",
              "3        2     9296       5\n",
              "4        2     2318       3"
            ]
          },
          "metadata": {
            "tags": []
          },
          "execution_count": 48
        }
      ]
    },
    {
      "cell_type": "code",
      "metadata": {
        "colab": {
          "base_uri": "https://localhost:8080/"
        },
        "id": "l2w8d9R_p1t9",
        "outputId": "476f9c3f-e164-4958-ee9c-169a4dcf5db0"
      },
      "source": [
        "print(\"There is \" ,str(len(rating['user_id'].unique())) , \"Different Users\")"
      ],
      "execution_count": 49,
      "outputs": [
        {
          "output_type": "stream",
          "text": [
            "There is  53424 Different Users\n"
          ],
          "name": "stdout"
        }
      ]
    },
    {
      "cell_type": "code",
      "metadata": {
        "colab": {
          "base_uri": "https://localhost:8080/"
        },
        "id": "zKRnuqWssZIk",
        "outputId": "c013f712-7410-410a-9ec6-b2a03c05a167"
      },
      "source": [
        "len(rating['book_id'].unique())"
      ],
      "execution_count": 50,
      "outputs": [
        {
          "output_type": "execute_result",
          "data": {
            "text/plain": [
              "10000"
            ]
          },
          "metadata": {
            "tags": []
          },
          "execution_count": 50
        }
      ]
    },
    {
      "cell_type": "markdown",
      "metadata": {
        "id": "eJIT4f5KOis1"
      },
      "source": [
        "10000 books are reviewed"
      ]
    },
    {
      "cell_type": "code",
      "metadata": {
        "colab": {
          "base_uri": "https://localhost:8080/"
        },
        "id": "BYUTa52wxiX8",
        "outputId": "ee4fe832-92c2-416a-ff10-8d21ba335d1f"
      },
      "source": [
        "reviews_per_book = rating.groupby( 'book_id' ).book_id.apply( lambda x: len( x )).reset_index(name = 'nb_rating')\n",
        "reviews_per_book['nb_rating'].describe()"
      ],
      "execution_count": 51,
      "outputs": [
        {
          "output_type": "execute_result",
          "data": {
            "text/plain": [
              "count    10000.000000\n",
              "mean       597.647900\n",
              "std       1267.289788\n",
              "min          8.000000\n",
              "25%        155.000000\n",
              "50%        248.000000\n",
              "75%        503.000000\n",
              "max      22806.000000\n",
              "Name: nb_rating, dtype: float64"
            ]
          },
          "metadata": {
            "tags": []
          },
          "execution_count": 51
        }
      ]
    },
    {
      "cell_type": "code",
      "metadata": {
        "colab": {
          "base_uri": "https://localhost:8080/",
          "height": 196
        },
        "id": "tlGGy_wD6yxG",
        "outputId": "cee4c1dc-fadb-455b-957a-803dbbba3493"
      },
      "source": [
        "reviews_per_book.head()"
      ],
      "execution_count": 52,
      "outputs": [
        {
          "output_type": "execute_result",
          "data": {
            "text/html": [
              "<div>\n",
              "<style scoped>\n",
              "    .dataframe tbody tr th:only-of-type {\n",
              "        vertical-align: middle;\n",
              "    }\n",
              "\n",
              "    .dataframe tbody tr th {\n",
              "        vertical-align: top;\n",
              "    }\n",
              "\n",
              "    .dataframe thead th {\n",
              "        text-align: right;\n",
              "    }\n",
              "</style>\n",
              "<table border=\"1\" class=\"dataframe\">\n",
              "  <thead>\n",
              "    <tr style=\"text-align: right;\">\n",
              "      <th></th>\n",
              "      <th>book_id</th>\n",
              "      <th>nb_rating</th>\n",
              "    </tr>\n",
              "  </thead>\n",
              "  <tbody>\n",
              "    <tr>\n",
              "      <th>0</th>\n",
              "      <td>1</td>\n",
              "      <td>22806</td>\n",
              "    </tr>\n",
              "    <tr>\n",
              "      <th>1</th>\n",
              "      <td>2</td>\n",
              "      <td>21850</td>\n",
              "    </tr>\n",
              "    <tr>\n",
              "      <th>2</th>\n",
              "      <td>3</td>\n",
              "      <td>16931</td>\n",
              "    </tr>\n",
              "    <tr>\n",
              "      <th>3</th>\n",
              "      <td>4</td>\n",
              "      <td>19088</td>\n",
              "    </tr>\n",
              "    <tr>\n",
              "      <th>4</th>\n",
              "      <td>5</td>\n",
              "      <td>16604</td>\n",
              "    </tr>\n",
              "  </tbody>\n",
              "</table>\n",
              "</div>"
            ],
            "text/plain": [
              "   book_id  nb_rating\n",
              "0        1      22806\n",
              "1        2      21850\n",
              "2        3      16931\n",
              "3        4      19088\n",
              "4        5      16604"
            ]
          },
          "metadata": {
            "tags": []
          },
          "execution_count": 52
        }
      ]
    },
    {
      "cell_type": "code",
      "metadata": {
        "colab": {
          "base_uri": "https://localhost:8080/",
          "height": 286
        },
        "id": "5RdtoQqHQ3DV",
        "outputId": "e0988557-d105-4b45-fd2e-10ed23c33095"
      },
      "source": [
        "reviews_per_book.nb_rating.hist( bins = 100)"
      ],
      "execution_count": 53,
      "outputs": [
        {
          "output_type": "execute_result",
          "data": {
            "text/plain": [
              "<matplotlib.axes._subplots.AxesSubplot at 0x7f2abaff1e10>"
            ]
          },
          "metadata": {
            "tags": []
          },
          "execution_count": 53
        },
        {
          "output_type": "display_data",
          "data": {
            "image/png": "[encoded data removed]",
            "text/plain": [
              "<Figure size 432x288 with 1 Axes>"
            ]
          },
          "metadata": {
            "tags": [],
            "needs_background": "light"
          }
        }
      ]
    },
    {
      "cell_type": "code",
      "metadata": {
        "colab": {
          "base_uri": "https://localhost:8080/",
          "height": 286
        },
        "id": "6_usU0a10OFV",
        "outputId": "1818e574-f870-481e-ab3d-43db7dab28ab"
      },
      "source": [
        "reviews_per_users = rating.groupby( 'user_id' ).user_id.apply( lambda x: len( x )).reset_index(name = 'nb_review')\n",
        "reviews_per_users.describe()"
      ],
      "execution_count": 54,
      "outputs": [
        {
          "output_type": "execute_result",
          "data": {
            "text/html": [
              "<div>\n",
              "<style scoped>\n",
              "    .dataframe tbody tr th:only-of-type {\n",
              "        vertical-align: middle;\n",
              "    }\n",
              "\n",
              "    .dataframe tbody tr th {\n",
              "        vertical-align: top;\n",
              "    }\n",
              "\n",
              "    .dataframe thead th {\n",
              "        text-align: right;\n",
              "    }\n",
              "</style>\n",
              "<table border=\"1\" class=\"dataframe\">\n",
              "  <thead>\n",
              "    <tr style=\"text-align: right;\">\n",
              "      <th></th>\n",
              "      <th>user_id</th>\n",
              "      <th>nb_review</th>\n",
              "    </tr>\n",
              "  </thead>\n",
              "  <tbody>\n",
              "    <tr>\n",
              "      <th>count</th>\n",
              "      <td>53424.000000</td>\n",
              "      <td>53424.000000</td>\n",
              "    </tr>\n",
              "    <tr>\n",
              "      <th>mean</th>\n",
              "      <td>26712.500000</td>\n",
              "      <td>111.868804</td>\n",
              "    </tr>\n",
              "    <tr>\n",
              "      <th>std</th>\n",
              "      <td>15422.324727</td>\n",
              "      <td>26.071224</td>\n",
              "    </tr>\n",
              "    <tr>\n",
              "      <th>min</th>\n",
              "      <td>1.000000</td>\n",
              "      <td>19.000000</td>\n",
              "    </tr>\n",
              "    <tr>\n",
              "      <th>25%</th>\n",
              "      <td>13356.750000</td>\n",
              "      <td>96.000000</td>\n",
              "    </tr>\n",
              "    <tr>\n",
              "      <th>50%</th>\n",
              "      <td>26712.500000</td>\n",
              "      <td>111.000000</td>\n",
              "    </tr>\n",
              "    <tr>\n",
              "      <th>75%</th>\n",
              "      <td>40068.250000</td>\n",
              "      <td>128.000000</td>\n",
              "    </tr>\n",
              "    <tr>\n",
              "      <th>max</th>\n",
              "      <td>53424.000000</td>\n",
              "      <td>200.000000</td>\n",
              "    </tr>\n",
              "  </tbody>\n",
              "</table>\n",
              "</div>"
            ],
            "text/plain": [
              "            user_id     nb_review\n",
              "count  53424.000000  53424.000000\n",
              "mean   26712.500000    111.868804\n",
              "std    15422.324727     26.071224\n",
              "min        1.000000     19.000000\n",
              "25%    13356.750000     96.000000\n",
              "50%    26712.500000    111.000000\n",
              "75%    40068.250000    128.000000\n",
              "max    53424.000000    200.000000"
            ]
          },
          "metadata": {
            "tags": []
          },
          "execution_count": 54
        }
      ]
    },
    {
      "cell_type": "code",
      "metadata": {
        "colab": {
          "base_uri": "https://localhost:8080/",
          "height": 286
        },
        "id": "iwFr6m7suPxJ",
        "outputId": "e248e6c6-f6cc-4ce9-a074-683d8545e18d"
      },
      "source": [
        "rating_per_book = rating.groupby( ['book_id'] ).rating.mean().reset_index(name = 'rating')\n",
        "rating_per_book.describe()"
      ],
      "execution_count": 55,
      "outputs": [
        {
          "output_type": "execute_result",
          "data": {
            "text/html": [
              "<div>\n",
              "<style scoped>\n",
              "    .dataframe tbody tr th:only-of-type {\n",
              "        vertical-align: middle;\n",
              "    }\n",
              "\n",
              "    .dataframe tbody tr th {\n",
              "        vertical-align: top;\n",
              "    }\n",
              "\n",
              "    .dataframe thead th {\n",
              "        text-align: right;\n",
              "    }\n",
              "</style>\n",
              "<table border=\"1\" class=\"dataframe\">\n",
              "  <thead>\n",
              "    <tr style=\"text-align: right;\">\n",
              "      <th></th>\n",
              "      <th>book_id</th>\n",
              "      <th>rating</th>\n",
              "    </tr>\n",
              "  </thead>\n",
              "  <tbody>\n",
              "    <tr>\n",
              "      <th>count</th>\n",
              "      <td>10000.00000</td>\n",
              "      <td>10000.000000</td>\n",
              "    </tr>\n",
              "    <tr>\n",
              "      <th>mean</th>\n",
              "      <td>5000.50000</td>\n",
              "      <td>3.903136</td>\n",
              "    </tr>\n",
              "    <tr>\n",
              "      <th>std</th>\n",
              "      <td>2886.89568</td>\n",
              "      <td>0.285346</td>\n",
              "    </tr>\n",
              "    <tr>\n",
              "      <th>min</th>\n",
              "      <td>1.00000</td>\n",
              "      <td>2.077966</td>\n",
              "    </tr>\n",
              "    <tr>\n",
              "      <th>25%</th>\n",
              "      <td>2500.75000</td>\n",
              "      <td>3.728160</td>\n",
              "    </tr>\n",
              "    <tr>\n",
              "      <th>50%</th>\n",
              "      <td>5000.50000</td>\n",
              "      <td>3.922021</td>\n",
              "    </tr>\n",
              "    <tr>\n",
              "      <th>75%</th>\n",
              "      <td>7500.25000</td>\n",
              "      <td>4.097793</td>\n",
              "    </tr>\n",
              "    <tr>\n",
              "      <th>max</th>\n",
              "      <td>10000.00000</td>\n",
              "      <td>4.829876</td>\n",
              "    </tr>\n",
              "  </tbody>\n",
              "</table>\n",
              "</div>"
            ],
            "text/plain": [
              "           book_id        rating\n",
              "count  10000.00000  10000.000000\n",
              "mean    5000.50000      3.903136\n",
              "std     2886.89568      0.285346\n",
              "min        1.00000      2.077966\n",
              "25%     2500.75000      3.728160\n",
              "50%     5000.50000      3.922021\n",
              "75%     7500.25000      4.097793\n",
              "max    10000.00000      4.829876"
            ]
          },
          "metadata": {
            "tags": []
          },
          "execution_count": 55
        }
      ]
    },
    {
      "cell_type": "code",
      "metadata": {
        "colab": {
          "base_uri": "https://localhost:8080/",
          "height": 293
        },
        "id": "KvkHfws2xbEm",
        "outputId": "9134ea26-3cb3-4689-86df-5eb4545f44d5"
      },
      "source": [
        "rating.rating.hist( bins = 5 )"
      ],
      "execution_count": 56,
      "outputs": [
        {
          "output_type": "execute_result",
          "data": {
            "text/plain": [
              "<matplotlib.axes._subplots.AxesSubplot at 0x7f2ab9129150>"
            ]
          },
          "metadata": {
            "tags": []
          },
          "execution_count": 56
        },
        {
          "output_type": "display_data",
          "data": {
            "image/png": "[encoded data removed]",
            "text/plain": [
              "<Figure size 432x288 with 1 Axes>"
            ]
          },
          "metadata": {
            "tags": [],
            "needs_background": "light"
          }
        }
      ]
    },
    {
      "cell_type": "markdown",
      "metadata": {
        "id": "kpWFdMllx36H"
      },
      "source": [
        "All books got ratings and that is a good point. But there is one book who has only 8 ratings, that can be problematic later.\n",
        "We can see that most of the ratings given by one user are between 3 and 5. The mean number of review for a user is 19, this is really encouraging.\n",
        "Finally the mean ratings for all the books is 3.9 with a min at 2 and a max at 4.8. \n"
      ]
    },
    {
      "cell_type": "markdown",
      "metadata": {
        "id": "oGHXrB4km39c"
      },
      "source": [
        "### 2. To read \n",
        "\n"
      ]
    },
    {
      "cell_type": "code",
      "metadata": {
        "colab": {
          "base_uri": "https://localhost:8080/",
          "height": 345
        },
        "id": "9V5dZEnKnEpm",
        "outputId": "60710190-b226-41fe-ea28-d4926678c062"
      },
      "source": [
        "tr.head(10)"
      ],
      "execution_count": 57,
      "outputs": [
        {
          "output_type": "execute_result",
          "data": {
            "text/html": [
              "<div>\n",
              "<style scoped>\n",
              "    .dataframe tbody tr th:only-of-type {\n",
              "        vertical-align: middle;\n",
              "    }\n",
              "\n",
              "    .dataframe tbody tr th {\n",
              "        vertical-align: top;\n",
              "    }\n",
              "\n",
              "    .dataframe thead th {\n",
              "        text-align: right;\n",
              "    }\n",
              "</style>\n",
              "<table border=\"1\" class=\"dataframe\">\n",
              "  <thead>\n",
              "    <tr style=\"text-align: right;\">\n",
              "      <th></th>\n",
              "      <th>user_id</th>\n",
              "      <th>book_id</th>\n",
              "    </tr>\n",
              "  </thead>\n",
              "  <tbody>\n",
              "    <tr>\n",
              "      <th>0</th>\n",
              "      <td>9</td>\n",
              "      <td>8</td>\n",
              "    </tr>\n",
              "    <tr>\n",
              "      <th>1</th>\n",
              "      <td>15</td>\n",
              "      <td>398</td>\n",
              "    </tr>\n",
              "    <tr>\n",
              "      <th>2</th>\n",
              "      <td>15</td>\n",
              "      <td>275</td>\n",
              "    </tr>\n",
              "    <tr>\n",
              "      <th>3</th>\n",
              "      <td>37</td>\n",
              "      <td>7173</td>\n",
              "    </tr>\n",
              "    <tr>\n",
              "      <th>4</th>\n",
              "      <td>34</td>\n",
              "      <td>380</td>\n",
              "    </tr>\n",
              "    <tr>\n",
              "      <th>5</th>\n",
              "      <td>34</td>\n",
              "      <td>483</td>\n",
              "    </tr>\n",
              "    <tr>\n",
              "      <th>6</th>\n",
              "      <td>34</td>\n",
              "      <td>8598</td>\n",
              "    </tr>\n",
              "    <tr>\n",
              "      <th>7</th>\n",
              "      <td>34</td>\n",
              "      <td>3581</td>\n",
              "    </tr>\n",
              "    <tr>\n",
              "      <th>8</th>\n",
              "      <td>70</td>\n",
              "      <td>498</td>\n",
              "    </tr>\n",
              "    <tr>\n",
              "      <th>9</th>\n",
              "      <td>76</td>\n",
              "      <td>4250</td>\n",
              "    </tr>\n",
              "  </tbody>\n",
              "</table>\n",
              "</div>"
            ],
            "text/plain": [
              "   user_id  book_id\n",
              "0        9        8\n",
              "1       15      398\n",
              "2       15      275\n",
              "3       37     7173\n",
              "4       34      380\n",
              "5       34      483\n",
              "6       34     8598\n",
              "7       34     3581\n",
              "8       70      498\n",
              "9       76     4250"
            ]
          },
          "metadata": {
            "tags": []
          },
          "execution_count": 57
        }
      ]
    },
    {
      "cell_type": "code",
      "metadata": {
        "colab": {
          "base_uri": "https://localhost:8080/"
        },
        "id": "b9o78XpnsdKn",
        "outputId": "770d11ac-9275-47ad-800e-0eb78e38c2d4"
      },
      "source": [
        "tr['user_id'].count()"
      ],
      "execution_count": 58,
      "outputs": [
        {
          "output_type": "execute_result",
          "data": {
            "text/plain": [
              "912705"
            ]
          },
          "metadata": {
            "tags": []
          },
          "execution_count": 58
        }
      ]
    },
    {
      "cell_type": "code",
      "metadata": {
        "colab": {
          "base_uri": "https://localhost:8080/"
        },
        "id": "n8DgtqjswCLQ",
        "outputId": "62991f29-9649-4a85-b051-c0dfd67ed42d"
      },
      "source": [
        "books_to_read_per_users = tr.groupby(['user_id']).book_id.count()\n",
        "books_to_read_per_users.head()"
      ],
      "execution_count": 59,
      "outputs": [
        {
          "output_type": "execute_result",
          "data": {
            "text/plain": [
              "user_id\n",
              "1     7\n",
              "2    32\n",
              "3    13\n",
              "5     4\n",
              "6    13\n",
              "Name: book_id, dtype: int64"
            ]
          },
          "metadata": {
            "tags": []
          },
          "execution_count": 59
        }
      ]
    },
    {
      "cell_type": "code",
      "metadata": {
        "colab": {
          "base_uri": "https://localhost:8080/"
        },
        "id": "BHsTxgUHy6ev",
        "outputId": "a45528b3-9469-4aab-83cd-28b893b1ade7"
      },
      "source": [
        "books_to_read_per_users.describe()"
      ],
      "execution_count": 60,
      "outputs": [
        {
          "output_type": "execute_result",
          "data": {
            "text/plain": [
              "count    48871.000000\n",
              "mean        18.675800\n",
              "std         16.089767\n",
              "min          1.000000\n",
              "25%          6.000000\n",
              "50%         14.000000\n",
              "75%         27.000000\n",
              "max        117.000000\n",
              "Name: book_id, dtype: float64"
            ]
          },
          "metadata": {
            "tags": []
          },
          "execution_count": 60
        }
      ]
    },
    {
      "cell_type": "markdown",
      "metadata": {
        "id": "QwDnoJ7Qy-ud"
      },
      "source": [
        "\n",
        "48871 Users have a book they want to read on our pool of 53424, thats is good."
      ]
    },
    {
      "cell_type": "markdown",
      "metadata": {
        "id": "utRFUhd3nLMf"
      },
      "source": [
        "### 3. Books "
      ]
    },
    {
      "cell_type": "code",
      "metadata": {
        "colab": {
          "base_uri": "https://localhost:8080/",
          "height": 417
        },
        "id": "iKcDDug3nPKC",
        "outputId": "9945488d-e480-4c73-b73e-3e7a5045c80d"
      },
      "source": [
        "b.head()"
      ],
      "execution_count": 61,
      "outputs": [
        {
          "output_type": "execute_result",
          "data": {
            "text/html": [
              "<div>\n",
              "<style scoped>\n",
              "    .dataframe tbody tr th:only-of-type {\n",
              "        vertical-align: middle;\n",
              "    }\n",
              "\n",
              "    .dataframe tbody tr th {\n",
              "        vertical-align: top;\n",
              "    }\n",
              "\n",
              "    .dataframe thead th {\n",
              "        text-align: right;\n",
              "    }\n",
              "</style>\n",
              "<table border=\"1\" class=\"dataframe\">\n",
              "  <thead>\n",
              "    <tr style=\"text-align: right;\">\n",
              "      <th></th>\n",
              "      <th>book_id</th>\n",
              "      <th>goodreads_book_id</th>\n",
              "      <th>best_book_id</th>\n",
              "      <th>work_id</th>\n",
              "      <th>books_count</th>\n",
              "      <th>isbn</th>\n",
              "      <th>isbn13</th>\n",
              "      <th>authors</th>\n",
              "      <th>original_publication_year</th>\n",
              "      <th>original_title</th>\n",
              "      <th>title</th>\n",
              "      <th>language_code</th>\n",
              "      <th>average_rating</th>\n",
              "      <th>ratings_count</th>\n",
              "      <th>work_ratings_count</th>\n",
              "      <th>work_text_reviews_count</th>\n",
              "      <th>ratings_1</th>\n",
              "      <th>ratings_2</th>\n",
              "      <th>ratings_3</th>\n",
              "      <th>ratings_4</th>\n",
              "      <th>ratings_5</th>\n",
              "      <th>image_url</th>\n",
              "      <th>small_image_url</th>\n",
              "    </tr>\n",
              "  </thead>\n",
              "  <tbody>\n",
              "    <tr>\n",
              "      <th>0</th>\n",
              "      <td>1</td>\n",
              "      <td>2767052</td>\n",
              "      <td>2767052</td>\n",
              "      <td>2792775</td>\n",
              "      <td>272</td>\n",
              "      <td>439023483</td>\n",
              "      <td>9.780439e+12</td>\n",
              "      <td>Suzanne Collins</td>\n",
              "      <td>2008.0</td>\n",
              "      <td>The Hunger Games</td>\n",
              "      <td>The Hunger Games (The Hunger Games, #1)</td>\n",
              "      <td>eng</td>\n",
              "      <td>4.34</td>\n",
              "      <td>4780653</td>\n",
              "      <td>4942365</td>\n",
              "      <td>155254</td>\n",
              "      <td>66715</td>\n",
              "      <td>127936</td>\n",
              "      <td>560092</td>\n",
              "      <td>1481305</td>\n",
              "      <td>2706317</td>\n",
              "      <td>https://images.gr-assets.com/books/1447303603m...</td>\n",
              "      <td>https://images.gr-assets.com/books/1447303603s...</td>\n",
              "    </tr>\n",
              "    <tr>\n",
              "      <th>1</th>\n",
              "      <td>2</td>\n",
              "      <td>3</td>\n",
              "      <td>3</td>\n",
              "      <td>4640799</td>\n",
              "      <td>491</td>\n",
              "      <td>439554934</td>\n",
              "      <td>9.780440e+12</td>\n",
              "      <td>J.K. Rowling, Mary GrandPré</td>\n",
              "      <td>1997.0</td>\n",
              "      <td>Harry Potter and the Philosopher's Stone</td>\n",
              "      <td>Harry Potter and the Sorcerer's Stone (Harry P...</td>\n",
              "      <td>eng</td>\n",
              "      <td>4.44</td>\n",
              "      <td>4602479</td>\n",
              "      <td>4800065</td>\n",
              "      <td>75867</td>\n",
              "      <td>75504</td>\n",
              "      <td>101676</td>\n",
              "      <td>455024</td>\n",
              "      <td>1156318</td>\n",
              "      <td>3011543</td>\n",
              "      <td>https://images.gr-assets.com/books/1474154022m...</td>\n",
              "      <td>https://images.gr-assets.com/books/1474154022s...</td>\n",
              "    </tr>\n",
              "    <tr>\n",
              "      <th>2</th>\n",
              "      <td>3</td>\n",
              "      <td>41865</td>\n",
              "      <td>41865</td>\n",
              "      <td>3212258</td>\n",
              "      <td>226</td>\n",
              "      <td>316015849</td>\n",
              "      <td>9.780316e+12</td>\n",
              "      <td>Stephenie Meyer</td>\n",
              "      <td>2005.0</td>\n",
              "      <td>Twilight</td>\n",
              "      <td>Twilight (Twilight, #1)</td>\n",
              "      <td>en-US</td>\n",
              "      <td>3.57</td>\n",
              "      <td>3866839</td>\n",
              "      <td>3916824</td>\n",
              "      <td>95009</td>\n",
              "      <td>456191</td>\n",
              "      <td>436802</td>\n",
              "      <td>793319</td>\n",
              "      <td>875073</td>\n",
              "      <td>1355439</td>\n",
              "      <td>https://images.gr-assets.com/books/1361039443m...</td>\n",
              "      <td>https://images.gr-assets.com/books/1361039443s...</td>\n",
              "    </tr>\n",
              "    <tr>\n",
              "      <th>3</th>\n",
              "      <td>4</td>\n",
              "      <td>2657</td>\n",
              "      <td>2657</td>\n",
              "      <td>3275794</td>\n",
              "      <td>487</td>\n",
              "      <td>61120081</td>\n",
              "      <td>9.780061e+12</td>\n",
              "      <td>Harper Lee</td>\n",
              "      <td>1960.0</td>\n",
              "      <td>To Kill a Mockingbird</td>\n",
              "      <td>To Kill a Mockingbird</td>\n",
              "      <td>eng</td>\n",
              "      <td>4.25</td>\n",
              "      <td>3198671</td>\n",
              "      <td>3340896</td>\n",
              "      <td>72586</td>\n",
              "      <td>60427</td>\n",
              "      <td>117415</td>\n",
              "      <td>446835</td>\n",
              "      <td>1001952</td>\n",
              "      <td>1714267</td>\n",
              "      <td>https://images.gr-assets.com/books/1361975680m...</td>\n",
              "      <td>https://images.gr-assets.com/books/1361975680s...</td>\n",
              "    </tr>\n",
              "    <tr>\n",
              "      <th>4</th>\n",
              "      <td>5</td>\n",
              "      <td>4671</td>\n",
              "      <td>4671</td>\n",
              "      <td>245494</td>\n",
              "      <td>1356</td>\n",
              "      <td>743273567</td>\n",
              "      <td>9.780743e+12</td>\n",
              "      <td>F. Scott Fitzgerald</td>\n",
              "      <td>1925.0</td>\n",
              "      <td>The Great Gatsby</td>\n",
              "      <td>The Great Gatsby</td>\n",
              "      <td>eng</td>\n",
              "      <td>3.89</td>\n",
              "      <td>2683664</td>\n",
              "      <td>2773745</td>\n",
              "      <td>51992</td>\n",
              "      <td>86236</td>\n",
              "      <td>197621</td>\n",
              "      <td>606158</td>\n",
              "      <td>936012</td>\n",
              "      <td>947718</td>\n",
              "      <td>https://images.gr-assets.com/books/1490528560m...</td>\n",
              "      <td>https://images.gr-assets.com/books/1490528560s...</td>\n",
              "    </tr>\n",
              "  </tbody>\n",
              "</table>\n",
              "</div>"
            ],
            "text/plain": [
              "   book_id  ...                                    small_image_url\n",
              "0        1  ...  https://images.gr-assets.com/books/1447303603s...\n",
              "1        2  ...  https://images.gr-assets.com/books/1474154022s...\n",
              "2        3  ...  https://images.gr-assets.com/books/1361039443s...\n",
              "3        4  ...  https://images.gr-assets.com/books/1361975680s...\n",
              "4        5  ...  https://images.gr-assets.com/books/1490528560s...\n",
              "\n",
              "[5 rows x 23 columns]"
            ]
          },
          "metadata": {
            "tags": []
          },
          "execution_count": 61
        }
      ]
    },
    {
      "cell_type": "code",
      "metadata": {
        "colab": {
          "base_uri": "https://localhost:8080/"
        },
        "id": "3tVu91Ff7IDT",
        "outputId": "d681f75c-e72c-4f3c-a528-72f627c360c5"
      },
      "source": [
        "b['average_rating'].mean()"
      ],
      "execution_count": 62,
      "outputs": [
        {
          "output_type": "execute_result",
          "data": {
            "text/plain": [
              "4.002191000000001"
            ]
          },
          "metadata": {
            "tags": []
          },
          "execution_count": 62
        }
      ]
    },
    {
      "cell_type": "markdown",
      "metadata": {
        "id": "ppA9_53lniEu"
      },
      "source": [
        "### 4. Tags"
      ]
    },
    {
      "cell_type": "code",
      "metadata": {
        "colab": {
          "base_uri": "https://localhost:8080/",
          "height": 196
        },
        "id": "aKCm14HInpvf",
        "outputId": "dfe4c285-171a-4a4c-92d0-9bf701ff1500"
      },
      "source": [
        "t.head()"
      ],
      "execution_count": 63,
      "outputs": [
        {
          "output_type": "execute_result",
          "data": {
            "text/html": [
              "<div>\n",
              "<style scoped>\n",
              "    .dataframe tbody tr th:only-of-type {\n",
              "        vertical-align: middle;\n",
              "    }\n",
              "\n",
              "    .dataframe tbody tr th {\n",
              "        vertical-align: top;\n",
              "    }\n",
              "\n",
              "    .dataframe thead th {\n",
              "        text-align: right;\n",
              "    }\n",
              "</style>\n",
              "<table border=\"1\" class=\"dataframe\">\n",
              "  <thead>\n",
              "    <tr style=\"text-align: right;\">\n",
              "      <th></th>\n",
              "      <th>tag_id</th>\n",
              "      <th>tag_name</th>\n",
              "    </tr>\n",
              "  </thead>\n",
              "  <tbody>\n",
              "    <tr>\n",
              "      <th>0</th>\n",
              "      <td>0</td>\n",
              "      <td>-</td>\n",
              "    </tr>\n",
              "    <tr>\n",
              "      <th>1</th>\n",
              "      <td>1</td>\n",
              "      <td>--1-</td>\n",
              "    </tr>\n",
              "    <tr>\n",
              "      <th>2</th>\n",
              "      <td>2</td>\n",
              "      <td>--10-</td>\n",
              "    </tr>\n",
              "    <tr>\n",
              "      <th>3</th>\n",
              "      <td>3</td>\n",
              "      <td>--12-</td>\n",
              "    </tr>\n",
              "    <tr>\n",
              "      <th>4</th>\n",
              "      <td>4</td>\n",
              "      <td>--122-</td>\n",
              "    </tr>\n",
              "  </tbody>\n",
              "</table>\n",
              "</div>"
            ],
            "text/plain": [
              "   tag_id tag_name\n",
              "0       0        -\n",
              "1       1     --1-\n",
              "2       2    --10-\n",
              "3       3    --12-\n",
              "4       4   --122-"
            ]
          },
          "metadata": {
            "tags": []
          },
          "execution_count": 63
        }
      ]
    },
    {
      "cell_type": "markdown",
      "metadata": {
        "id": "gL0LnXvjLpyi"
      },
      "source": [
        "There is nothing really interresting here. As we should merge it with the table book tags, see below."
      ]
    },
    {
      "cell_type": "markdown",
      "metadata": {
        "id": "-ypjk17antHH"
      },
      "source": [
        "### 5. Book tags"
      ]
    },
    {
      "cell_type": "code",
      "metadata": {
        "colab": {
          "base_uri": "https://localhost:8080/",
          "height": 345
        },
        "id": "-3lMZTJVnznN",
        "outputId": "3391e23f-4af1-4099-a6a9-56deebb08127"
      },
      "source": [
        "bt.head(10)"
      ],
      "execution_count": 64,
      "outputs": [
        {
          "output_type": "execute_result",
          "data": {
            "text/html": [
              "<div>\n",
              "<style scoped>\n",
              "    .dataframe tbody tr th:only-of-type {\n",
              "        vertical-align: middle;\n",
              "    }\n",
              "\n",
              "    .dataframe tbody tr th {\n",
              "        vertical-align: top;\n",
              "    }\n",
              "\n",
              "    .dataframe thead th {\n",
              "        text-align: right;\n",
              "    }\n",
              "</style>\n",
              "<table border=\"1\" class=\"dataframe\">\n",
              "  <thead>\n",
              "    <tr style=\"text-align: right;\">\n",
              "      <th></th>\n",
              "      <th>goodreads_book_id</th>\n",
              "      <th>tag_id</th>\n",
              "      <th>count</th>\n",
              "    </tr>\n",
              "  </thead>\n",
              "  <tbody>\n",
              "    <tr>\n",
              "      <th>0</th>\n",
              "      <td>1</td>\n",
              "      <td>30574</td>\n",
              "      <td>167697</td>\n",
              "    </tr>\n",
              "    <tr>\n",
              "      <th>1</th>\n",
              "      <td>1</td>\n",
              "      <td>11305</td>\n",
              "      <td>37174</td>\n",
              "    </tr>\n",
              "    <tr>\n",
              "      <th>2</th>\n",
              "      <td>1</td>\n",
              "      <td>11557</td>\n",
              "      <td>34173</td>\n",
              "    </tr>\n",
              "    <tr>\n",
              "      <th>3</th>\n",
              "      <td>1</td>\n",
              "      <td>8717</td>\n",
              "      <td>12986</td>\n",
              "    </tr>\n",
              "    <tr>\n",
              "      <th>4</th>\n",
              "      <td>1</td>\n",
              "      <td>33114</td>\n",
              "      <td>12716</td>\n",
              "    </tr>\n",
              "    <tr>\n",
              "      <th>5</th>\n",
              "      <td>1</td>\n",
              "      <td>11743</td>\n",
              "      <td>9954</td>\n",
              "    </tr>\n",
              "    <tr>\n",
              "      <th>6</th>\n",
              "      <td>1</td>\n",
              "      <td>14017</td>\n",
              "      <td>7169</td>\n",
              "    </tr>\n",
              "    <tr>\n",
              "      <th>7</th>\n",
              "      <td>1</td>\n",
              "      <td>5207</td>\n",
              "      <td>6221</td>\n",
              "    </tr>\n",
              "    <tr>\n",
              "      <th>8</th>\n",
              "      <td>1</td>\n",
              "      <td>22743</td>\n",
              "      <td>4974</td>\n",
              "    </tr>\n",
              "    <tr>\n",
              "      <th>9</th>\n",
              "      <td>1</td>\n",
              "      <td>32989</td>\n",
              "      <td>4364</td>\n",
              "    </tr>\n",
              "  </tbody>\n",
              "</table>\n",
              "</div>"
            ],
            "text/plain": [
              "   goodreads_book_id  tag_id   count\n",
              "0                  1   30574  167697\n",
              "1                  1   11305   37174\n",
              "2                  1   11557   34173\n",
              "3                  1    8717   12986\n",
              "4                  1   33114   12716\n",
              "5                  1   11743    9954\n",
              "6                  1   14017    7169\n",
              "7                  1    5207    6221\n",
              "8                  1   22743    4974\n",
              "9                  1   32989    4364"
            ]
          },
          "metadata": {
            "tags": []
          },
          "execution_count": 64
        }
      ]
    },
    {
      "cell_type": "code",
      "metadata": {
        "colab": {
          "base_uri": "https://localhost:8080/",
          "height": 196
        },
        "id": "KTHuts9P3LCQ",
        "outputId": "4be07599-d125-4f59-fbca-8b84ca0007d4"
      },
      "source": [
        "bt_new = bt.merge( t, on = 'tag_id' )\n",
        "bt_new.head()"
      ],
      "execution_count": 65,
      "outputs": [
        {
          "output_type": "execute_result",
          "data": {
            "text/html": [
              "<div>\n",
              "<style scoped>\n",
              "    .dataframe tbody tr th:only-of-type {\n",
              "        vertical-align: middle;\n",
              "    }\n",
              "\n",
              "    .dataframe tbody tr th {\n",
              "        vertical-align: top;\n",
              "    }\n",
              "\n",
              "    .dataframe thead th {\n",
              "        text-align: right;\n",
              "    }\n",
              "</style>\n",
              "<table border=\"1\" class=\"dataframe\">\n",
              "  <thead>\n",
              "    <tr style=\"text-align: right;\">\n",
              "      <th></th>\n",
              "      <th>goodreads_book_id</th>\n",
              "      <th>tag_id</th>\n",
              "      <th>count</th>\n",
              "      <th>tag_name</th>\n",
              "    </tr>\n",
              "  </thead>\n",
              "  <tbody>\n",
              "    <tr>\n",
              "      <th>0</th>\n",
              "      <td>1</td>\n",
              "      <td>30574</td>\n",
              "      <td>167697</td>\n",
              "      <td>to-read</td>\n",
              "    </tr>\n",
              "    <tr>\n",
              "      <th>1</th>\n",
              "      <td>2</td>\n",
              "      <td>30574</td>\n",
              "      <td>24549</td>\n",
              "      <td>to-read</td>\n",
              "    </tr>\n",
              "    <tr>\n",
              "      <th>2</th>\n",
              "      <td>3</td>\n",
              "      <td>30574</td>\n",
              "      <td>496107</td>\n",
              "      <td>to-read</td>\n",
              "    </tr>\n",
              "    <tr>\n",
              "      <th>3</th>\n",
              "      <td>5</td>\n",
              "      <td>30574</td>\n",
              "      <td>11909</td>\n",
              "      <td>to-read</td>\n",
              "    </tr>\n",
              "    <tr>\n",
              "      <th>4</th>\n",
              "      <td>6</td>\n",
              "      <td>30574</td>\n",
              "      <td>298</td>\n",
              "      <td>to-read</td>\n",
              "    </tr>\n",
              "  </tbody>\n",
              "</table>\n",
              "</div>"
            ],
            "text/plain": [
              "   goodreads_book_id  tag_id   count tag_name\n",
              "0                  1   30574  167697  to-read\n",
              "1                  2   30574   24549  to-read\n",
              "2                  3   30574  496107  to-read\n",
              "3                  5   30574   11909  to-read\n",
              "4                  6   30574     298  to-read"
            ]
          },
          "metadata": {
            "tags": []
          },
          "execution_count": 65
        }
      ]
    },
    {
      "cell_type": "code",
      "metadata": {
        "colab": {
          "base_uri": "https://localhost:8080/",
          "height": 196
        },
        "id": "n7PMTb-O3rxG",
        "outputId": "dad9993c-86d8-4368-d759-c92bdd3eb2fd"
      },
      "source": [
        "bt_new = bt_new.merge( b[['goodreads_book_id', 'book_id', 'title']], on = 'goodreads_book_id' )\n",
        "bt_new.head()"
      ],
      "execution_count": 66,
      "outputs": [
        {
          "output_type": "execute_result",
          "data": {
            "text/html": [
              "<div>\n",
              "<style scoped>\n",
              "    .dataframe tbody tr th:only-of-type {\n",
              "        vertical-align: middle;\n",
              "    }\n",
              "\n",
              "    .dataframe tbody tr th {\n",
              "        vertical-align: top;\n",
              "    }\n",
              "\n",
              "    .dataframe thead th {\n",
              "        text-align: right;\n",
              "    }\n",
              "</style>\n",
              "<table border=\"1\" class=\"dataframe\">\n",
              "  <thead>\n",
              "    <tr style=\"text-align: right;\">\n",
              "      <th></th>\n",
              "      <th>goodreads_book_id</th>\n",
              "      <th>tag_id</th>\n",
              "      <th>count</th>\n",
              "      <th>tag_name</th>\n",
              "      <th>book_id</th>\n",
              "      <th>title</th>\n",
              "    </tr>\n",
              "  </thead>\n",
              "  <tbody>\n",
              "    <tr>\n",
              "      <th>0</th>\n",
              "      <td>1</td>\n",
              "      <td>30574</td>\n",
              "      <td>167697</td>\n",
              "      <td>to-read</td>\n",
              "      <td>27</td>\n",
              "      <td>Harry Potter and the Half-Blood Prince (Harry ...</td>\n",
              "    </tr>\n",
              "    <tr>\n",
              "      <th>1</th>\n",
              "      <td>1</td>\n",
              "      <td>11305</td>\n",
              "      <td>37174</td>\n",
              "      <td>fantasy</td>\n",
              "      <td>27</td>\n",
              "      <td>Harry Potter and the Half-Blood Prince (Harry ...</td>\n",
              "    </tr>\n",
              "    <tr>\n",
              "      <th>2</th>\n",
              "      <td>1</td>\n",
              "      <td>11557</td>\n",
              "      <td>34173</td>\n",
              "      <td>favorites</td>\n",
              "      <td>27</td>\n",
              "      <td>Harry Potter and the Half-Blood Prince (Harry ...</td>\n",
              "    </tr>\n",
              "    <tr>\n",
              "      <th>3</th>\n",
              "      <td>1</td>\n",
              "      <td>8717</td>\n",
              "      <td>12986</td>\n",
              "      <td>currently-reading</td>\n",
              "      <td>27</td>\n",
              "      <td>Harry Potter and the Half-Blood Prince (Harry ...</td>\n",
              "    </tr>\n",
              "    <tr>\n",
              "      <th>4</th>\n",
              "      <td>1</td>\n",
              "      <td>33114</td>\n",
              "      <td>12716</td>\n",
              "      <td>young-adult</td>\n",
              "      <td>27</td>\n",
              "      <td>Harry Potter and the Half-Blood Prince (Harry ...</td>\n",
              "    </tr>\n",
              "  </tbody>\n",
              "</table>\n",
              "</div>"
            ],
            "text/plain": [
              "   goodreads_book_id  ...                                              title\n",
              "0                  1  ...  Harry Potter and the Half-Blood Prince (Harry ...\n",
              "1                  1  ...  Harry Potter and the Half-Blood Prince (Harry ...\n",
              "2                  1  ...  Harry Potter and the Half-Blood Prince (Harry ...\n",
              "3                  1  ...  Harry Potter and the Half-Blood Prince (Harry ...\n",
              "4                  1  ...  Harry Potter and the Half-Blood Prince (Harry ...\n",
              "\n",
              "[5 rows x 6 columns]"
            ]
          },
          "metadata": {
            "tags": []
          },
          "execution_count": 66
        }
      ]
    },
    {
      "cell_type": "code",
      "metadata": {
        "colab": {
          "base_uri": "https://localhost:8080/"
        },
        "id": "zHBNNhb-60ZP",
        "outputId": "27b7ccfd-564b-4cc4-d095-ee3cc3ff589d"
      },
      "source": [
        "bt_new['count'].describe()"
      ],
      "execution_count": 67,
      "outputs": [
        {
          "output_type": "execute_result",
          "data": {
            "text/plain": [
              "count    999912.000000\n",
              "mean        208.869633\n",
              "std        3501.265173\n",
              "min          -1.000000\n",
              "25%           7.000000\n",
              "50%          15.000000\n",
              "75%          40.000000\n",
              "max      596234.000000\n",
              "Name: count, dtype: float64"
            ]
          },
          "metadata": {
            "tags": []
          },
          "execution_count": 67
        }
      ]
    },
    {
      "cell_type": "code",
      "metadata": {
        "id": "W_6Q00d54_8Y"
      },
      "source": [
        "bt_new.loc[ bt_new['count'] < 0, 'count'] = 0"
      ],
      "execution_count": 68,
      "outputs": []
    },
    {
      "cell_type": "code",
      "metadata": {
        "colab": {
          "base_uri": "https://localhost:8080/"
        },
        "id": "r9kTUEhx5O7b",
        "outputId": "fc1e674e-c6da-4900-b469-cf8d23a92b51"
      },
      "source": [
        "bt_new.loc[ bt_new['count'] == 0, 'title']"
      ],
      "execution_count": 69,
      "outputs": [
        {
          "output_type": "execute_result",
          "data": {
            "text/plain": [
              "920799    Kindle Paperwhite User's Guide\n",
              "920815    Kindle Paperwhite User's Guide\n",
              "920823    Kindle Paperwhite User's Guide\n",
              "920854    Kindle Paperwhite User's Guide\n",
              "920855    Kindle Paperwhite User's Guide\n",
              "958159               Kindle User's Guide\n",
              "Name: title, dtype: object"
            ]
          },
          "metadata": {
            "tags": []
          },
          "execution_count": 69
        }
      ]
    },
    {
      "cell_type": "markdown",
      "metadata": {
        "id": "G7Udujui6Mrx"
      },
      "source": [
        "We have merged tags name and books names with the book tag table, like this it is easier to see the tags of a book. We saw that some tag count's where negative, we set them to 0. We can see that they are all related to the Kindle's user guide. "
      ]
    },
    {
      "cell_type": "code",
      "metadata": {
        "colab": {
          "base_uri": "https://localhost:8080/"
        },
        "id": "ksXRX3Yb7fNo",
        "outputId": "05c41b3d-59e7-4851-b67d-79e64124e096"
      },
      "source": [
        "tag_counts = bt_new.groupby( 'tag_name' ).tag_name.count().sort_values( ascending = False )\n",
        "tag_counts.head( 30 )"
      ],
      "execution_count": 70,
      "outputs": [
        {
          "output_type": "execute_result",
          "data": {
            "text/plain": [
              "tag_name\n",
              "to-read              9983\n",
              "favorites            9881\n",
              "owned                9858\n",
              "books-i-own          9799\n",
              "currently-reading    9776\n",
              "library              9415\n",
              "owned-books          9221\n",
              "fiction              9097\n",
              "to-buy               8692\n",
              "kindle               8316\n",
              "default              8239\n",
              "ebook                8054\n",
              "my-books             7561\n",
              "audiobook            7242\n",
              "ebooks               7203\n",
              "wish-list            7192\n",
              "my-library           7000\n",
              "audiobooks           6862\n",
              "i-own                6670\n",
              "adult                6604\n",
              "audio                6548\n",
              "favourites           6422\n",
              "novels               5665\n",
              "own-it               5514\n",
              "contemporary         5287\n",
              "read-in-2015         5239\n",
              "series               5080\n",
              "e-book               4941\n",
              "read-in-2016         4940\n",
              "read-in-2014         4902\n",
              "Name: tag_name, dtype: int64"
            ]
          },
          "metadata": {
            "tags": []
          },
          "execution_count": 70
        }
      ]
    },
    {
      "cell_type": "markdown",
      "metadata": {
        "id": "PSXThgmvJMxV"
      },
      "source": [
        "# 2. Simple methods recomender"
      ]
    },
    {
      "cell_type": "markdown",
      "metadata": {
        "id": "raGX9ymAJhHE"
      },
      "source": [
        "I will make a simple recommender using the Weighted Rating (WR) = $(\\frac{v}{v + m} . R) + (\\frac{m}{v + m} . C)$ formula. "
      ]
    },
    {
      "cell_type": "markdown",
      "metadata": {
        "id": "nwTdNgGBJoi-"
      },
      "source": [
        "where,\n",
        "\n",
        "- v is the number of votes for the book;\n",
        "- m is the minimum votes required to be listed in the chart;\n",
        "- R is the average rating of the book; \n",
        "- C is the mean vote across the whole report;"
      ]
    },
    {
      "cell_type": "code",
      "metadata": {
        "colab": {
          "base_uri": "https://localhost:8080/"
        },
        "id": "YkObOB-oJTmD",
        "outputId": "3ceb3527-1898-4c4b-be18-3ecac3538431"
      },
      "source": [
        "# Calculate C\n",
        "C = rating_per_book['rating'].mean()\n",
        "print(C)"
      ],
      "execution_count": 73,
      "outputs": [
        {
          "output_type": "stream",
          "text": [
            "3.903135936008679\n"
          ],
          "name": "stdout"
        }
      ]
    },
    {
      "cell_type": "markdown",
      "metadata": {
        "id": "pstPPw4_PTUv"
      },
      "source": [
        "The mean rating for a book is of 3.9/5"
      ]
    },
    {
      "cell_type": "code",
      "metadata": {
        "colab": {
          "base_uri": "https://localhost:8080/",
          "height": 286
        },
        "id": "Mc1PCNneSRPS",
        "outputId": "4c1aae05-b358-499e-e826-46e359b50c71"
      },
      "source": [
        "reviews_per_book.nb_rating.hist( bins = 100)"
      ],
      "execution_count": 74,
      "outputs": [
        {
          "output_type": "execute_result",
          "data": {
            "text/plain": [
              "<matplotlib.axes._subplots.AxesSubplot at 0x7f2ababbe310>"
            ]
          },
          "metadata": {
            "tags": []
          },
          "execution_count": 74
        },
        {
          "output_type": "display_data",
          "data": {
            "image/png": "[encoded data removed]",
            "text/plain": [
              "<Figure size 432x288 with 1 Axes>"
            ]
          },
          "metadata": {
            "tags": [],
            "needs_background": "light"
          }
        }
      ]
    },
    {
      "cell_type": "markdown",
      "metadata": {
        "id": "1-TwhY7qSSuY"
      },
      "source": [
        "Most of the books have less than 2500 ratings. Hence we can use a m that is pretty low. "
      ]
    },
    {
      "cell_type": "code",
      "metadata": {
        "colab": {
          "base_uri": "https://localhost:8080/"
        },
        "id": "quuNxduvPW7E",
        "outputId": "f172128e-2597-489e-9343-7a7bac1c2295"
      },
      "source": [
        "# Calculate the minimum number of votes required to be in the chart, m\n",
        "m = reviews_per_book['nb_rating'].quantile(0.30)\n",
        "print(m)"
      ],
      "execution_count": 75,
      "outputs": [
        {
          "output_type": "stream",
          "text": [
            "170.0\n"
          ],
          "name": "stdout"
        }
      ]
    },
    {
      "cell_type": "code",
      "metadata": {
        "colab": {
          "base_uri": "https://localhost:8080/",
          "height": 196
        },
        "id": "w-fEFKntYRsX",
        "outputId": "15d98e17-8764-4aa5-e321-c180b8838957"
      },
      "source": [
        "#We merge the dataframe with the rating and the dataframe with the number of rating. And let's also add the title\n",
        "reviews_rating_per_book = reviews_per_book.merge(rating_per_book, on = 'book_id')\n",
        "reviews_rating_per_book = reviews_rating_per_book.merge( b[['book_id','title']], on = 'book_id')\n",
        "reviews_rating_per_book.head()"
      ],
      "execution_count": 76,
      "outputs": [
        {
          "output_type": "execute_result",
          "data": {
            "text/html": [
              "<div>\n",
              "<style scoped>\n",
              "    .dataframe tbody tr th:only-of-type {\n",
              "        vertical-align: middle;\n",
              "    }\n",
              "\n",
              "    .dataframe tbody tr th {\n",
              "        vertical-align: top;\n",
              "    }\n",
              "\n",
              "    .dataframe thead th {\n",
              "        text-align: right;\n",
              "    }\n",
              "</style>\n",
              "<table border=\"1\" class=\"dataframe\">\n",
              "  <thead>\n",
              "    <tr style=\"text-align: right;\">\n",
              "      <th></th>\n",
              "      <th>book_id</th>\n",
              "      <th>nb_rating</th>\n",
              "      <th>rating</th>\n",
              "      <th>title</th>\n",
              "    </tr>\n",
              "  </thead>\n",
              "  <tbody>\n",
              "    <tr>\n",
              "      <th>0</th>\n",
              "      <td>1</td>\n",
              "      <td>22806</td>\n",
              "      <td>4.279707</td>\n",
              "      <td>The Hunger Games (The Hunger Games, #1)</td>\n",
              "    </tr>\n",
              "    <tr>\n",
              "      <th>1</th>\n",
              "      <td>2</td>\n",
              "      <td>21850</td>\n",
              "      <td>4.351350</td>\n",
              "      <td>Harry Potter and the Sorcerer's Stone (Harry P...</td>\n",
              "    </tr>\n",
              "    <tr>\n",
              "      <th>2</th>\n",
              "      <td>3</td>\n",
              "      <td>16931</td>\n",
              "      <td>3.214341</td>\n",
              "      <td>Twilight (Twilight, #1)</td>\n",
              "    </tr>\n",
              "    <tr>\n",
              "      <th>3</th>\n",
              "      <td>4</td>\n",
              "      <td>19088</td>\n",
              "      <td>4.329369</td>\n",
              "      <td>To Kill a Mockingbird</td>\n",
              "    </tr>\n",
              "    <tr>\n",
              "      <th>4</th>\n",
              "      <td>5</td>\n",
              "      <td>16604</td>\n",
              "      <td>3.772224</td>\n",
              "      <td>The Great Gatsby</td>\n",
              "    </tr>\n",
              "  </tbody>\n",
              "</table>\n",
              "</div>"
            ],
            "text/plain": [
              "   book_id  ...                                              title\n",
              "0        1  ...            The Hunger Games (The Hunger Games, #1)\n",
              "1        2  ...  Harry Potter and the Sorcerer's Stone (Harry P...\n",
              "2        3  ...                            Twilight (Twilight, #1)\n",
              "3        4  ...                              To Kill a Mockingbird\n",
              "4        5  ...                                   The Great Gatsby\n",
              "\n",
              "[5 rows x 4 columns]"
            ]
          },
          "metadata": {
            "tags": []
          },
          "execution_count": 76
        }
      ]
    },
    {
      "cell_type": "code",
      "metadata": {
        "colab": {
          "base_uri": "https://localhost:8080/"
        },
        "id": "I6kdQkJ7VWDR",
        "outputId": "75c7290e-d537-43a6-ceb1-2a210030fd7e"
      },
      "source": [
        "# Filter out all qualified books into a new DataFrame\n",
        "new_reviews_rating_per_book = reviews_rating_per_book.copy().loc[reviews_rating_per_book['nb_rating'] >= m]\n",
        "new_reviews_rating_per_book.shape"
      ],
      "execution_count": 77,
      "outputs": [
        {
          "output_type": "execute_result",
          "data": {
            "text/plain": [
              "(7006, 4)"
            ]
          },
          "metadata": {
            "tags": []
          },
          "execution_count": 77
        }
      ]
    },
    {
      "cell_type": "markdown",
      "metadata": {
        "id": "CXHd07L2XjMj"
      },
      "source": [
        "We have 7006 books that qualify. Now we will define our weighted metric function. "
      ]
    },
    {
      "cell_type": "code",
      "metadata": {
        "id": "OPvcg_UJXtkU"
      },
      "source": [
        "# Function that computes the weighted rating of each book\n",
        "def weighted_rating(x, m=m, C=C):\n",
        "    v = x['nb_rating']\n",
        "    R = x['rating']\n",
        "    # Calculation based on the IMDB formula\n",
        "    return (v/(v+m) * R) + (m/(m+v) * C)"
      ],
      "execution_count": 78,
      "outputs": []
    },
    {
      "cell_type": "code",
      "metadata": {
        "colab": {
          "base_uri": "https://localhost:8080/",
          "height": 196
        },
        "id": "kz9xCl5wbU7G",
        "outputId": "238f8271-a214-45db-aa9b-1a223c8100a8"
      },
      "source": [
        "#We apply the function on our Dataframe and add the score in a new column\n",
        "new_reviews_rating_per_book['score'] = new_reviews_rating_per_book.apply(weighted_rating, axis=1)\n",
        "new_reviews_rating_per_book.head()"
      ],
      "execution_count": 79,
      "outputs": [
        {
          "output_type": "execute_result",
          "data": {
            "text/html": [
              "<div>\n",
              "<style scoped>\n",
              "    .dataframe tbody tr th:only-of-type {\n",
              "        vertical-align: middle;\n",
              "    }\n",
              "\n",
              "    .dataframe tbody tr th {\n",
              "        vertical-align: top;\n",
              "    }\n",
              "\n",
              "    .dataframe thead th {\n",
              "        text-align: right;\n",
              "    }\n",
              "</style>\n",
              "<table border=\"1\" class=\"dataframe\">\n",
              "  <thead>\n",
              "    <tr style=\"text-align: right;\">\n",
              "      <th></th>\n",
              "      <th>book_id</th>\n",
              "      <th>nb_rating</th>\n",
              "      <th>rating</th>\n",
              "      <th>title</th>\n",
              "      <th>score</th>\n",
              "    </tr>\n",
              "  </thead>\n",
              "  <tbody>\n",
              "    <tr>\n",
              "      <th>0</th>\n",
              "      <td>1</td>\n",
              "      <td>22806</td>\n",
              "      <td>4.279707</td>\n",
              "      <td>The Hunger Games (The Hunger Games, #1)</td>\n",
              "      <td>4.276921</td>\n",
              "    </tr>\n",
              "    <tr>\n",
              "      <th>1</th>\n",
              "      <td>2</td>\n",
              "      <td>21850</td>\n",
              "      <td>4.351350</td>\n",
              "      <td>Harry Potter and the Sorcerer's Stone (Harry P...</td>\n",
              "      <td>4.347890</td>\n",
              "    </tr>\n",
              "    <tr>\n",
              "      <th>2</th>\n",
              "      <td>3</td>\n",
              "      <td>16931</td>\n",
              "      <td>3.214341</td>\n",
              "      <td>Twilight (Twilight, #1)</td>\n",
              "      <td>3.221188</td>\n",
              "    </tr>\n",
              "    <tr>\n",
              "      <th>3</th>\n",
              "      <td>4</td>\n",
              "      <td>19088</td>\n",
              "      <td>4.329369</td>\n",
              "      <td>To Kill a Mockingbird</td>\n",
              "      <td>4.325607</td>\n",
              "    </tr>\n",
              "    <tr>\n",
              "      <th>4</th>\n",
              "      <td>5</td>\n",
              "      <td>16604</td>\n",
              "      <td>3.772224</td>\n",
              "      <td>The Great Gatsby</td>\n",
              "      <td>3.773550</td>\n",
              "    </tr>\n",
              "  </tbody>\n",
              "</table>\n",
              "</div>"
            ],
            "text/plain": [
              "   book_id  ...     score\n",
              "0        1  ...  4.276921\n",
              "1        2  ...  4.347890\n",
              "2        3  ...  3.221188\n",
              "3        4  ...  4.325607\n",
              "4        5  ...  3.773550\n",
              "\n",
              "[5 rows x 5 columns]"
            ]
          },
          "metadata": {
            "tags": []
          },
          "execution_count": 79
        }
      ]
    },
    {
      "cell_type": "code",
      "metadata": {
        "colab": {
          "base_uri": "https://localhost:8080/",
          "height": 1000
        },
        "id": "AE-1k1n_bhlp",
        "outputId": "e1a57893-aac7-4fbf-bdaf-5ca040add8b1"
      },
      "source": [
        "new_reviews_rating_per_book = new_reviews_rating_per_book.sort_values('score', ascending=False)\n",
        "new_reviews_rating_per_book.head(50)"
      ],
      "execution_count": 80,
      "outputs": [
        {
          "output_type": "execute_result",
          "data": {
            "text/html": [
              "<div>\n",
              "<style scoped>\n",
              "    .dataframe tbody tr th:only-of-type {\n",
              "        vertical-align: middle;\n",
              "    }\n",
              "\n",
              "    .dataframe tbody tr th {\n",
              "        vertical-align: top;\n",
              "    }\n",
              "\n",
              "    .dataframe thead th {\n",
              "        text-align: right;\n",
              "    }\n",
              "</style>\n",
              "<table border=\"1\" class=\"dataframe\">\n",
              "  <thead>\n",
              "    <tr style=\"text-align: right;\">\n",
              "      <th></th>\n",
              "      <th>book_id</th>\n",
              "      <th>nb_rating</th>\n",
              "      <th>rating</th>\n",
              "      <th>title</th>\n",
              "      <th>score</th>\n",
              "    </tr>\n",
              "  </thead>\n",
              "  <tbody>\n",
              "    <tr>\n",
              "      <th>861</th>\n",
              "      <td>862</td>\n",
              "      <td>1373</td>\n",
              "      <td>4.702840</td>\n",
              "      <td>Words of Radiance (The Stormlight Archive, #2)</td>\n",
              "      <td>4.614733</td>\n",
              "    </tr>\n",
              "    <tr>\n",
              "      <th>421</th>\n",
              "      <td>422</td>\n",
              "      <td>1915</td>\n",
              "      <td>4.659530</td>\n",
              "      <td>Harry Potter Boxset (Harry Potter, #1-7)</td>\n",
              "      <td>4.597858</td>\n",
              "    </tr>\n",
              "    <tr>\n",
              "      <th>1307</th>\n",
              "      <td>1308</td>\n",
              "      <td>933</td>\n",
              "      <td>4.718114</td>\n",
              "      <td>A Court of Mist and Fury (A Court of Thorns an...</td>\n",
              "      <td>4.592505</td>\n",
              "    </tr>\n",
              "    <tr>\n",
              "      <th>3627</th>\n",
              "      <td>3628</td>\n",
              "      <td>482</td>\n",
              "      <td>4.829876</td>\n",
              "      <td>The Complete Calvin and Hobbes</td>\n",
              "      <td>4.588241</td>\n",
              "    </tr>\n",
              "    <tr>\n",
              "      <th>779</th>\n",
              "      <td>780</td>\n",
              "      <td>1394</td>\n",
              "      <td>4.661406</td>\n",
              "      <td>Calvin and Hobbes</td>\n",
              "      <td>4.578985</td>\n",
              "    </tr>\n",
              "    <tr>\n",
              "      <th>1009</th>\n",
              "      <td>1010</td>\n",
              "      <td>1249</td>\n",
              "      <td>4.652522</td>\n",
              "      <td>The Essential Calvin and Hobbes: A Calvin and ...</td>\n",
              "      <td>4.562744</td>\n",
              "    </tr>\n",
              "    <tr>\n",
              "      <th>1787</th>\n",
              "      <td>1788</td>\n",
              "      <td>652</td>\n",
              "      <td>4.728528</td>\n",
              "      <td>The Calvin and Hobbes Tenth Anniversary Book</td>\n",
              "      <td>4.557826</td>\n",
              "    </tr>\n",
              "    <tr>\n",
              "      <th>24</th>\n",
              "      <td>25</td>\n",
              "      <td>15304</td>\n",
              "      <td>4.525941</td>\n",
              "      <td>Harry Potter and the Deathly Hallows (Harry Po...</td>\n",
              "      <td>4.519099</td>\n",
              "    </tr>\n",
              "    <tr>\n",
              "      <th>561</th>\n",
              "      <td>562</td>\n",
              "      <td>1789</td>\n",
              "      <td>4.545556</td>\n",
              "      <td>The Way of Kings (The Stormlight Archive, #1)</td>\n",
              "      <td>4.489808</td>\n",
              "    </tr>\n",
              "    <tr>\n",
              "      <th>4482</th>\n",
              "      <td>4483</td>\n",
              "      <td>384</td>\n",
              "      <td>4.747396</td>\n",
              "      <td>It's a Magical World: A Calvin and Hobbes Coll...</td>\n",
              "      <td>4.488327</td>\n",
              "    </tr>\n",
              "    <tr>\n",
              "      <th>191</th>\n",
              "      <td>192</td>\n",
              "      <td>3948</td>\n",
              "      <td>4.499747</td>\n",
              "      <td>The Name of the Wind (The Kingkiller Chronicle...</td>\n",
              "      <td>4.475117</td>\n",
              "    </tr>\n",
              "    <tr>\n",
              "      <th>1263</th>\n",
              "      <td>1264</td>\n",
              "      <td>1078</td>\n",
              "      <td>4.564007</td>\n",
              "      <td>Queen of Shadows (Throne of Glass, #4)</td>\n",
              "      <td>4.473985</td>\n",
              "    </tr>\n",
              "    <tr>\n",
              "      <th>306</th>\n",
              "      <td>307</td>\n",
              "      <td>3026</td>\n",
              "      <td>4.483807</td>\n",
              "      <td>The Wise Man's Fear (The Kingkiller Chronicle,...</td>\n",
              "      <td>4.452920</td>\n",
              "    </tr>\n",
              "    <tr>\n",
              "      <th>963</th>\n",
              "      <td>964</td>\n",
              "      <td>1400</td>\n",
              "      <td>4.518571</td>\n",
              "      <td>J.R.R. Tolkien 4-Book Boxed Set: The Hobbit an...</td>\n",
              "      <td>4.451932</td>\n",
              "    </tr>\n",
              "    <tr>\n",
              "      <th>266</th>\n",
              "      <td>267</td>\n",
              "      <td>3666</td>\n",
              "      <td>4.467267</td>\n",
              "      <td>The Nightingale</td>\n",
              "      <td>4.442266</td>\n",
              "    </tr>\n",
              "    <tr>\n",
              "      <th>2243</th>\n",
              "      <td>2244</td>\n",
              "      <td>528</td>\n",
              "      <td>4.615530</td>\n",
              "      <td>Saga, Vol. 2 (Saga, #2)</td>\n",
              "      <td>4.442025</td>\n",
              "    </tr>\n",
              "    <tr>\n",
              "      <th>2100</th>\n",
              "      <td>2101</td>\n",
              "      <td>560</td>\n",
              "      <td>4.605357</td>\n",
              "      <td>The Harry Potter Collection 1-4 (Harry Potter,...</td>\n",
              "      <td>4.441826</td>\n",
              "    </tr>\n",
              "    <tr>\n",
              "      <th>2166</th>\n",
              "      <td>2167</td>\n",
              "      <td>652</td>\n",
              "      <td>4.579755</td>\n",
              "      <td>Empire of Storms (Throne of Glass, #5)</td>\n",
              "      <td>4.439821</td>\n",
              "    </tr>\n",
              "    <tr>\n",
              "      <th>26</th>\n",
              "      <td>27</td>\n",
              "      <td>15081</td>\n",
              "      <td>4.443339</td>\n",
              "      <td>Harry Potter and the Half-Blood Prince (Harry ...</td>\n",
              "      <td>4.437318</td>\n",
              "    </tr>\n",
              "    <tr>\n",
              "      <th>3274</th>\n",
              "      <td>3275</td>\n",
              "      <td>285</td>\n",
              "      <td>4.736842</td>\n",
              "      <td>Harry Potter Boxed Set, Books 1-5 (Harry Potte...</td>\n",
              "      <td>4.425347</td>\n",
              "    </tr>\n",
              "    <tr>\n",
              "      <th>23</th>\n",
              "      <td>24</td>\n",
              "      <td>15523</td>\n",
              "      <td>4.430780</td>\n",
              "      <td>Harry Potter and the Goblet of Fire (Harry Pot...</td>\n",
              "      <td>4.425064</td>\n",
              "    </tr>\n",
              "    <tr>\n",
              "      <th>3394</th>\n",
              "      <td>3395</td>\n",
              "      <td>533</td>\n",
              "      <td>4.590994</td>\n",
              "      <td>The Kindly Ones (The Sandman #9)</td>\n",
              "      <td>4.424656</td>\n",
              "    </tr>\n",
              "    <tr>\n",
              "      <th>2352</th>\n",
              "      <td>2353</td>\n",
              "      <td>745</td>\n",
              "      <td>4.543624</td>\n",
              "      <td>Season of Mists (The Sandman #4)</td>\n",
              "      <td>4.424626</td>\n",
              "    </tr>\n",
              "    <tr>\n",
              "      <th>6360</th>\n",
              "      <td>6361</td>\n",
              "      <td>263</td>\n",
              "      <td>4.760456</td>\n",
              "      <td>There's Treasure Everywhere: A Calvin and Hobb...</td>\n",
              "      <td>4.423864</td>\n",
              "    </tr>\n",
              "    <tr>\n",
              "      <th>1379</th>\n",
              "      <td>1380</td>\n",
              "      <td>897</td>\n",
              "      <td>4.521739</td>\n",
              "      <td>The Complete Maus (Maus, #1-2)</td>\n",
              "      <td>4.423180</td>\n",
              "    </tr>\n",
              "    <tr>\n",
              "      <th>143</th>\n",
              "      <td>144</td>\n",
              "      <td>4577</td>\n",
              "      <td>4.439371</td>\n",
              "      <td>Unbroken: A World War II Story of Survival, Re...</td>\n",
              "      <td>4.420167</td>\n",
              "    </tr>\n",
              "    <tr>\n",
              "      <th>1021</th>\n",
              "      <td>1022</td>\n",
              "      <td>1293</td>\n",
              "      <td>4.484919</td>\n",
              "      <td>Heir of Fire (Throne of Glass, #3)</td>\n",
              "      <td>4.417316</td>\n",
              "    </tr>\n",
              "    <tr>\n",
              "      <th>249</th>\n",
              "      <td>250</td>\n",
              "      <td>2648</td>\n",
              "      <td>4.446752</td>\n",
              "      <td>Wonder</td>\n",
              "      <td>4.413958</td>\n",
              "    </tr>\n",
              "    <tr>\n",
              "      <th>17</th>\n",
              "      <td>18</td>\n",
              "      <td>15855</td>\n",
              "      <td>4.418732</td>\n",
              "      <td>Harry Potter and the Prisoner of Azkaban (Harr...</td>\n",
              "      <td>4.413263</td>\n",
              "    </tr>\n",
              "    <tr>\n",
              "      <th>465</th>\n",
              "      <td>466</td>\n",
              "      <td>1782</td>\n",
              "      <td>4.459596</td>\n",
              "      <td>The Hobbit: Graphic Novel</td>\n",
              "      <td>4.411134</td>\n",
              "    </tr>\n",
              "    <tr>\n",
              "      <th>160</th>\n",
              "      <td>161</td>\n",
              "      <td>6331</td>\n",
              "      <td>4.424735</td>\n",
              "      <td>The Return of the King (The Lord of the Rings,...</td>\n",
              "      <td>4.411096</td>\n",
              "    </tr>\n",
              "    <tr>\n",
              "      <th>2766</th>\n",
              "      <td>2767</td>\n",
              "      <td>431</td>\n",
              "      <td>4.607889</td>\n",
              "      <td>Saga, Vol. 3 (Saga, #3)</td>\n",
              "      <td>4.408541</td>\n",
              "    </tr>\n",
              "    <tr>\n",
              "      <th>2208</th>\n",
              "      <td>2209</td>\n",
              "      <td>719</td>\n",
              "      <td>4.527121</td>\n",
              "      <td>The Complete Works</td>\n",
              "      <td>4.407799</td>\n",
              "    </tr>\n",
              "    <tr>\n",
              "      <th>134</th>\n",
              "      <td>135</td>\n",
              "      <td>6237</td>\n",
              "      <td>4.420555</td>\n",
              "      <td>A Storm of Swords (A Song of Ice and Fire, #3)</td>\n",
              "      <td>4.406826</td>\n",
              "    </tr>\n",
              "    <tr>\n",
              "      <th>6589</th>\n",
              "      <td>6590</td>\n",
              "      <td>243</td>\n",
              "      <td>4.757202</td>\n",
              "      <td>The Authoritative Calvin and Hobbes: A Calvin ...</td>\n",
              "      <td>4.405649</td>\n",
              "    </tr>\n",
              "    <tr>\n",
              "      <th>2092</th>\n",
              "      <td>2093</td>\n",
              "      <td>532</td>\n",
              "      <td>4.565789</td>\n",
              "      <td>The Stand: Soul Survivors</td>\n",
              "      <td>4.405318</td>\n",
              "    </tr>\n",
              "    <tr>\n",
              "      <th>2148</th>\n",
              "      <td>2149</td>\n",
              "      <td>445</td>\n",
              "      <td>4.584270</td>\n",
              "      <td>A Song of Ice and Fire (A Song of Ice and Fire...</td>\n",
              "      <td>4.395989</td>\n",
              "    </tr>\n",
              "    <tr>\n",
              "      <th>5206</th>\n",
              "      <td>5207</td>\n",
              "      <td>256</td>\n",
              "      <td>4.722656</td>\n",
              "      <td>The Days Are Just Packed: A Calvin and Hobbes ...</td>\n",
              "      <td>4.395618</td>\n",
              "    </tr>\n",
              "    <tr>\n",
              "      <th>1373</th>\n",
              "      <td>1374</td>\n",
              "      <td>1006</td>\n",
              "      <td>4.478131</td>\n",
              "      <td>A Memory of Light (Wheel of Time, #14)</td>\n",
              "      <td>4.395011</td>\n",
              "    </tr>\n",
              "    <tr>\n",
              "      <th>975</th>\n",
              "      <td>976</td>\n",
              "      <td>1102</td>\n",
              "      <td>4.469147</td>\n",
              "      <td>Dr. Seuss's Green Eggs and Ham: For Soprano, B...</td>\n",
              "      <td>4.393501</td>\n",
              "    </tr>\n",
              "    <tr>\n",
              "      <th>957</th>\n",
              "      <td>958</td>\n",
              "      <td>1247</td>\n",
              "      <td>4.458701</td>\n",
              "      <td>The Complete Anne of Green Gables Boxed Set (A...</td>\n",
              "      <td>4.392049</td>\n",
              "    </tr>\n",
              "    <tr>\n",
              "      <th>3081</th>\n",
              "      <td>3082</td>\n",
              "      <td>588</td>\n",
              "      <td>4.530612</td>\n",
              "      <td>Brief Lives (The Sandman #7)</td>\n",
              "      <td>4.389885</td>\n",
              "    </tr>\n",
              "    <tr>\n",
              "      <th>997</th>\n",
              "      <td>998</td>\n",
              "      <td>1307</td>\n",
              "      <td>4.452181</td>\n",
              "      <td>The Monster at the End of this Book</td>\n",
              "      <td>4.388987</td>\n",
              "    </tr>\n",
              "    <tr>\n",
              "      <th>3659</th>\n",
              "      <td>3660</td>\n",
              "      <td>499</td>\n",
              "      <td>4.551102</td>\n",
              "      <td>The Wake (The Sandman #10)</td>\n",
              "      <td>4.386447</td>\n",
              "    </tr>\n",
              "    <tr>\n",
              "      <th>1601</th>\n",
              "      <td>1602</td>\n",
              "      <td>1043</td>\n",
              "      <td>4.464046</td>\n",
              "      <td>Changes (The Dresden Files, #12)</td>\n",
              "      <td>4.385435</td>\n",
              "    </tr>\n",
              "    <tr>\n",
              "      <th>6919</th>\n",
              "      <td>6920</td>\n",
              "      <td>214</td>\n",
              "      <td>4.766355</td>\n",
              "      <td>The Indispensable Calvin and Hobbes</td>\n",
              "      <td>4.384201</td>\n",
              "    </tr>\n",
              "    <tr>\n",
              "      <th>756</th>\n",
              "      <td>757</td>\n",
              "      <td>1920</td>\n",
              "      <td>4.426042</td>\n",
              "      <td>Lonesome Dove</td>\n",
              "      <td>4.383509</td>\n",
              "    </tr>\n",
              "    <tr>\n",
              "      <th>5579</th>\n",
              "      <td>5580</td>\n",
              "      <td>267</td>\n",
              "      <td>4.689139</td>\n",
              "      <td>The Calvin and Hobbes Lazy Sunday Book</td>\n",
              "      <td>4.383371</td>\n",
              "    </tr>\n",
              "    <tr>\n",
              "      <th>768</th>\n",
              "      <td>769</td>\n",
              "      <td>1591</td>\n",
              "      <td>4.433690</td>\n",
              "      <td>The Complete Sherlock Holmes</td>\n",
              "      <td>4.382472</td>\n",
              "    </tr>\n",
              "    <tr>\n",
              "      <th>1028</th>\n",
              "      <td>1029</td>\n",
              "      <td>745</td>\n",
              "      <td>4.488591</td>\n",
              "      <td>Saga, Vol. 1 (Saga, #1)</td>\n",
              "      <td>4.379818</td>\n",
              "    </tr>\n",
              "  </tbody>\n",
              "</table>\n",
              "</div>"
            ],
            "text/plain": [
              "      book_id  ...     score\n",
              "861       862  ...  4.614733\n",
              "421       422  ...  4.597858\n",
              "1307     1308  ...  4.592505\n",
              "3627     3628  ...  4.588241\n",
              "779       780  ...  4.578985\n",
              "1009     1010  ...  4.562744\n",
              "1787     1788  ...  4.557826\n",
              "24         25  ...  4.519099\n",
              "561       562  ...  4.489808\n",
              "4482     4483  ...  4.488327\n",
              "191       192  ...  4.475117\n",
              "1263     1264  ...  4.473985\n",
              "306       307  ...  4.452920\n",
              "963       964  ...  4.451932\n",
              "266       267  ...  4.442266\n",
              "2243     2244  ...  4.442025\n",
              "2100     2101  ...  4.441826\n",
              "2166     2167  ...  4.439821\n",
              "26         27  ...  4.437318\n",
              "3274     3275  ...  4.425347\n",
              "23         24  ...  4.425064\n",
              "3394     3395  ...  4.424656\n",
              "2352     2353  ...  4.424626\n",
              "6360     6361  ...  4.423864\n",
              "1379     1380  ...  4.423180\n",
              "143       144  ...  4.420167\n",
              "1021     1022  ...  4.417316\n",
              "249       250  ...  4.413958\n",
              "17         18  ...  4.413263\n",
              "465       466  ...  4.411134\n",
              "160       161  ...  4.411096\n",
              "2766     2767  ...  4.408541\n",
              "2208     2209  ...  4.407799\n",
              "134       135  ...  4.406826\n",
              "6589     6590  ...  4.405649\n",
              "2092     2093  ...  4.405318\n",
              "2148     2149  ...  4.395989\n",
              "5206     5207  ...  4.395618\n",
              "1373     1374  ...  4.395011\n",
              "975       976  ...  4.393501\n",
              "957       958  ...  4.392049\n",
              "3081     3082  ...  4.389885\n",
              "997       998  ...  4.388987\n",
              "3659     3660  ...  4.386447\n",
              "1601     1602  ...  4.385435\n",
              "6919     6920  ...  4.384201\n",
              "756       757  ...  4.383509\n",
              "5579     5580  ...  4.383371\n",
              "768       769  ...  4.382472\n",
              "1028     1029  ...  4.379818\n",
              "\n",
              "[50 rows x 5 columns]"
            ]
          },
          "metadata": {
            "tags": []
          },
          "execution_count": 80
        }
      ]
    },
    {
      "cell_type": "markdown",
      "metadata": {
        "id": "SM_XMbs3iWbI"
      },
      "source": [
        "And here we have the 50 best books !"
      ]
    },
    {
      "cell_type": "markdown",
      "metadata": {
        "id": "JSpipz4BKhy5"
      },
      "source": [
        "# 3. Content Base Recomender "
      ]
    },
    {
      "cell_type": "markdown",
      "metadata": {
        "id": "-tddmBrBX_ej"
      },
      "source": [
        "## 1. Try to have one big tag string for every book"
      ]
    },
    {
      "cell_type": "code",
      "metadata": {
        "colab": {
          "base_uri": "https://localhost:8080/",
          "height": 196
        },
        "id": "qJKoE7ZzKjqZ",
        "outputId": "7e1a142d-84df-4fdf-d45d-ea732f1509b2"
      },
      "source": [
        "bt_new.head()"
      ],
      "execution_count": 81,
      "outputs": [
        {
          "output_type": "execute_result",
          "data": {
            "text/html": [
              "<div>\n",
              "<style scoped>\n",
              "    .dataframe tbody tr th:only-of-type {\n",
              "        vertical-align: middle;\n",
              "    }\n",
              "\n",
              "    .dataframe tbody tr th {\n",
              "        vertical-align: top;\n",
              "    }\n",
              "\n",
              "    .dataframe thead th {\n",
              "        text-align: right;\n",
              "    }\n",
              "</style>\n",
              "<table border=\"1\" class=\"dataframe\">\n",
              "  <thead>\n",
              "    <tr style=\"text-align: right;\">\n",
              "      <th></th>\n",
              "      <th>goodreads_book_id</th>\n",
              "      <th>tag_id</th>\n",
              "      <th>count</th>\n",
              "      <th>tag_name</th>\n",
              "      <th>book_id</th>\n",
              "      <th>title</th>\n",
              "    </tr>\n",
              "  </thead>\n",
              "  <tbody>\n",
              "    <tr>\n",
              "      <th>0</th>\n",
              "      <td>1</td>\n",
              "      <td>30574</td>\n",
              "      <td>167697</td>\n",
              "      <td>to-read</td>\n",
              "      <td>27</td>\n",
              "      <td>Harry Potter and the Half-Blood Prince (Harry ...</td>\n",
              "    </tr>\n",
              "    <tr>\n",
              "      <th>1</th>\n",
              "      <td>1</td>\n",
              "      <td>11305</td>\n",
              "      <td>37174</td>\n",
              "      <td>fantasy</td>\n",
              "      <td>27</td>\n",
              "      <td>Harry Potter and the Half-Blood Prince (Harry ...</td>\n",
              "    </tr>\n",
              "    <tr>\n",
              "      <th>2</th>\n",
              "      <td>1</td>\n",
              "      <td>11557</td>\n",
              "      <td>34173</td>\n",
              "      <td>favorites</td>\n",
              "      <td>27</td>\n",
              "      <td>Harry Potter and the Half-Blood Prince (Harry ...</td>\n",
              "    </tr>\n",
              "    <tr>\n",
              "      <th>3</th>\n",
              "      <td>1</td>\n",
              "      <td>8717</td>\n",
              "      <td>12986</td>\n",
              "      <td>currently-reading</td>\n",
              "      <td>27</td>\n",
              "      <td>Harry Potter and the Half-Blood Prince (Harry ...</td>\n",
              "    </tr>\n",
              "    <tr>\n",
              "      <th>4</th>\n",
              "      <td>1</td>\n",
              "      <td>33114</td>\n",
              "      <td>12716</td>\n",
              "      <td>young-adult</td>\n",
              "      <td>27</td>\n",
              "      <td>Harry Potter and the Half-Blood Prince (Harry ...</td>\n",
              "    </tr>\n",
              "  </tbody>\n",
              "</table>\n",
              "</div>"
            ],
            "text/plain": [
              "   goodreads_book_id  ...                                              title\n",
              "0                  1  ...  Harry Potter and the Half-Blood Prince (Harry ...\n",
              "1                  1  ...  Harry Potter and the Half-Blood Prince (Harry ...\n",
              "2                  1  ...  Harry Potter and the Half-Blood Prince (Harry ...\n",
              "3                  1  ...  Harry Potter and the Half-Blood Prince (Harry ...\n",
              "4                  1  ...  Harry Potter and the Half-Blood Prince (Harry ...\n",
              "\n",
              "[5 rows x 6 columns]"
            ]
          },
          "metadata": {
            "tags": []
          },
          "execution_count": 81
        }
      ]
    },
    {
      "cell_type": "code",
      "metadata": {
        "colab": {
          "base_uri": "https://localhost:8080/",
          "height": 196
        },
        "id": "wiHrv0aWYLEB",
        "outputId": "51f4a4f8-ef5a-4ae2-d4fc-d16ee00fad22"
      },
      "source": [
        "book_tag = bt_new.groupby(['book_id','title'])['tag_name'].apply( lambda x :  ' '.join(x)).reset_index(name=\"Full_tag\")\n",
        "book_tag.head()"
      ],
      "execution_count": 82,
      "outputs": [
        {
          "output_type": "execute_result",
          "data": {
            "text/html": [
              "<div>\n",
              "<style scoped>\n",
              "    .dataframe tbody tr th:only-of-type {\n",
              "        vertical-align: middle;\n",
              "    }\n",
              "\n",
              "    .dataframe tbody tr th {\n",
              "        vertical-align: top;\n",
              "    }\n",
              "\n",
              "    .dataframe thead th {\n",
              "        text-align: right;\n",
              "    }\n",
              "</style>\n",
              "<table border=\"1\" class=\"dataframe\">\n",
              "  <thead>\n",
              "    <tr style=\"text-align: right;\">\n",
              "      <th></th>\n",
              "      <th>book_id</th>\n",
              "      <th>title</th>\n",
              "      <th>Full_tag</th>\n",
              "    </tr>\n",
              "  </thead>\n",
              "  <tbody>\n",
              "    <tr>\n",
              "      <th>0</th>\n",
              "      <td>1</td>\n",
              "      <td>The Hunger Games (The Hunger Games, #1)</td>\n",
              "      <td>to-read fantasy favorites currently-reading yo...</td>\n",
              "    </tr>\n",
              "    <tr>\n",
              "      <th>1</th>\n",
              "      <td>2</td>\n",
              "      <td>Harry Potter and the Sorcerer's Stone (Harry P...</td>\n",
              "      <td>to-read fantasy favorites currently-reading yo...</td>\n",
              "    </tr>\n",
              "    <tr>\n",
              "      <th>2</th>\n",
              "      <td>3</td>\n",
              "      <td>Twilight (Twilight, #1)</td>\n",
              "      <td>to-read fantasy favorites currently-reading yo...</td>\n",
              "    </tr>\n",
              "    <tr>\n",
              "      <th>3</th>\n",
              "      <td>4</td>\n",
              "      <td>To Kill a Mockingbird</td>\n",
              "      <td>to-read favorites currently-reading young-adul...</td>\n",
              "    </tr>\n",
              "    <tr>\n",
              "      <th>4</th>\n",
              "      <td>5</td>\n",
              "      <td>The Great Gatsby</td>\n",
              "      <td>to-read favorites currently-reading young-adul...</td>\n",
              "    </tr>\n",
              "  </tbody>\n",
              "</table>\n",
              "</div>"
            ],
            "text/plain": [
              "   book_id  ...                                           Full_tag\n",
              "0        1  ...  to-read fantasy favorites currently-reading yo...\n",
              "1        2  ...  to-read fantasy favorites currently-reading yo...\n",
              "2        3  ...  to-read fantasy favorites currently-reading yo...\n",
              "3        4  ...  to-read favorites currently-reading young-adul...\n",
              "4        5  ...  to-read favorites currently-reading young-adul...\n",
              "\n",
              "[5 rows x 3 columns]"
            ]
          },
          "metadata": {
            "tags": []
          },
          "execution_count": 82
        }
      ]
    },
    {
      "cell_type": "markdown",
      "metadata": {
        "id": "XFjS4fQHjNmY"
      },
      "source": [
        "Now that we have the tags we will compute the word vectors of each tag or document, as it will be called from now on."
      ]
    },
    {
      "cell_type": "code",
      "metadata": {
        "colab": {
          "base_uri": "https://localhost:8080/"
        },
        "id": "0q-Djn9-a4Me",
        "outputId": "36fdd63a-d58d-4407-b1f3-de8900d967a0"
      },
      "source": [
        "#Import TfIdfVectorizer from scikit-learn\n",
        "from sklearn.feature_extraction.text import TfidfVectorizer\n",
        "\n",
        "#Define a TF-IDF Vectorizer Object. Remove all english stop words such as 'the', 'a'\n",
        "tfidf = TfidfVectorizer(stop_words='english')\n",
        "\n",
        "#Replace NaN with an empty string\n",
        "book_tag['Full_tag'] = book_tag['Full_tag'].fillna('')\n",
        "\n",
        "#Construct the required TF-IDF matrix by fitting and transforming the data\n",
        "tfidf_matrix = tfidf.fit_transform(book_tag['Full_tag'])\n",
        "\n",
        "#Output the shape of tfidf_matrix\n",
        "tfidf_matrix.shape"
      ],
      "execution_count": 83,
      "outputs": [
        {
          "output_type": "execute_result",
          "data": {
            "text/plain": [
              "(10000, 16396)"
            ]
          },
          "metadata": {
            "tags": []
          },
          "execution_count": 83
        }
      ]
    },
    {
      "cell_type": "markdown",
      "metadata": {
        "id": "AtJ8ruw6kCZE"
      },
      "source": [
        "\n",
        "\n",
        "We could have supressed customized tags but I considered here that similar book would have the same customized labels, especially thoose with a high rating"
      ]
    },
    {
      "cell_type": "markdown",
      "metadata": {
        "id": "bOi8YTPMlvFh"
      },
      "source": [
        "We can see that 16396 words where used to describe our 10000 books, the ratio book/words is way bigger than the one we had during the lab with the movies."
      ]
    },
    {
      "cell_type": "code",
      "metadata": {
        "id": "Wpey79bElpF0"
      },
      "source": [
        "#Reverse mapping to find the indices of a book from it's title\n",
        "indices = pd.Series(book_tag.index, index=book_tag['title']).drop_duplicates()"
      ],
      "execution_count": 84,
      "outputs": []
    },
    {
      "cell_type": "code",
      "metadata": {
        "id": "QN-cd92VnOmb"
      },
      "source": [
        "from sklearn.metrics.pairwise import linear_kernel\n",
        "\n",
        "# Function that takes in book title as input and outputs most similar books\n",
        "def get_recommendations(title, tfidf_matrix):\n",
        "    # Get the index of the book that matches the title\n",
        "    idx = indices[title]\n",
        "\n",
        "    # Get the pairwsie similarity scores of all books with that book\n",
        "    cosine_sim = linear_kernel(tfidf_matrix[idx,:], tfidf_matrix)\n",
        "    sim_scores = list(enumerate(cosine_sim[0]))\n",
        "\n",
        "    # Sort the books based on the similarity scores\n",
        "    sim_scores = sorted(sim_scores, key=lambda x: x[1], reverse=True)\n",
        "\n",
        "    # Get the scores of the 10 most similar books\n",
        "    sim_scores = sim_scores[1:11]\n",
        "\n",
        "    # Get the movie indices\n",
        "    book_indices = [i[0] for i in sim_scores]\n",
        "\n",
        "    # Return the top 10 most similar books\n",
        "    return book_tag['title'].iloc[book_indices]"
      ],
      "execution_count": 85,
      "outputs": []
    },
    {
      "cell_type": "code",
      "metadata": {
        "colab": {
          "base_uri": "https://localhost:8080/"
        },
        "id": "e1Q6andUnv0A",
        "outputId": "d2d0ff55-ace3-411f-aede-4ba85d8e5e4a"
      },
      "source": [
        "get_recommendations('The Hunger Games (The Hunger Games, #1)', tfidf_matrix)"
      ],
      "execution_count": 133,
      "outputs": [
        {
          "output_type": "execute_result",
          "data": {
            "text/plain": [
              "16                   Catching Fire (The Hunger Games, #2)\n",
              "19                      Mockingjay (The Hunger Games, #3)\n",
              "506     The Hunger Games Trilogy Boxset (The Hunger Ga...\n",
              "11                              Divergent (Divergent, #1)\n",
              "279                               Delirium (Delirium, #1)\n",
              "2562                  Monsters of Men (Chaos Walking, #3)\n",
              "2300           The Ask and the Answer (Chaos Walking, #2)\n",
              "780                                 Specials (Uglies, #3)\n",
              "326                                   Legend (Legend, #1)\n",
              "68                              Insurgent (Divergent, #2)\n",
              "Name: title, dtype: object"
            ]
          },
          "metadata": {
            "tags": []
          },
          "execution_count": 133
        }
      ]
    },
    {
      "cell_type": "code",
      "metadata": {
        "colab": {
          "base_uri": "https://localhost:8080/",
          "height": 584
        },
        "id": "JdaHLkFLoC6t",
        "outputId": "39453a22-4ecd-4038-a8ee-3bbe90f15660"
      },
      "source": [
        "new_reviews_rating_per_book.loc[new_reviews_rating_per_book['rating']<3 , ['title','rating'] ]"
      ],
      "execution_count": 134,
      "outputs": [
        {
          "output_type": "execute_result",
          "data": {
            "text/html": [
              "<div>\n",
              "<style scoped>\n",
              "    .dataframe tbody tr th:only-of-type {\n",
              "        vertical-align: middle;\n",
              "    }\n",
              "\n",
              "    .dataframe tbody tr th {\n",
              "        vertical-align: top;\n",
              "    }\n",
              "\n",
              "    .dataframe thead th {\n",
              "        text-align: right;\n",
              "    }\n",
              "</style>\n",
              "<table border=\"1\" class=\"dataframe\">\n",
              "  <thead>\n",
              "    <tr style=\"text-align: right;\">\n",
              "      <th></th>\n",
              "      <th>title</th>\n",
              "      <th>rating</th>\n",
              "    </tr>\n",
              "  </thead>\n",
              "  <tbody>\n",
              "    <tr>\n",
              "      <th>6393</th>\n",
              "      <td>The Fever</td>\n",
              "      <td>2.911330</td>\n",
              "    </tr>\n",
              "    <tr>\n",
              "      <th>6473</th>\n",
              "      <td>Seating Arrangements</td>\n",
              "      <td>2.942387</td>\n",
              "    </tr>\n",
              "    <tr>\n",
              "      <th>5889</th>\n",
              "      <td>The Prophet of Yonwood (Book of Ember, #3)</td>\n",
              "      <td>2.910714</td>\n",
              "    </tr>\n",
              "    <tr>\n",
              "      <th>3876</th>\n",
              "      <td>Girls in White Dresses</td>\n",
              "      <td>2.937908</td>\n",
              "    </tr>\n",
              "    <tr>\n",
              "      <th>2242</th>\n",
              "      <td>The Good Neighbor</td>\n",
              "      <td>2.981675</td>\n",
              "    </tr>\n",
              "    <tr>\n",
              "      <th>9020</th>\n",
              "      <td>Lost</td>\n",
              "      <td>2.618090</td>\n",
              "    </tr>\n",
              "    <tr>\n",
              "      <th>4613</th>\n",
              "      <td>The Emperor's Children</td>\n",
              "      <td>2.793333</td>\n",
              "    </tr>\n",
              "    <tr>\n",
              "      <th>4281</th>\n",
              "      <td>Pygmy</td>\n",
              "      <td>2.780645</td>\n",
              "    </tr>\n",
              "    <tr>\n",
              "      <th>3145</th>\n",
              "      <td>Adultery</td>\n",
              "      <td>2.634921</td>\n",
              "    </tr>\n",
              "    <tr>\n",
              "      <th>1821</th>\n",
              "      <td>Revolution 2020: Love, Corruption, Ambition</td>\n",
              "      <td>2.492537</td>\n",
              "    </tr>\n",
              "    <tr>\n",
              "      <th>4008</th>\n",
              "      <td>Four Blondes</td>\n",
              "      <td>2.706422</td>\n",
              "    </tr>\n",
              "    <tr>\n",
              "      <th>2045</th>\n",
              "      <td>The One &amp; Only</td>\n",
              "      <td>2.893720</td>\n",
              "    </tr>\n",
              "    <tr>\n",
              "      <th>2135</th>\n",
              "      <td>The Jane Austen Book Club</td>\n",
              "      <td>2.934010</td>\n",
              "    </tr>\n",
              "    <tr>\n",
              "      <th>1546</th>\n",
              "      <td>The Mermaid Chair</td>\n",
              "      <td>2.938578</td>\n",
              "    </tr>\n",
              "    <tr>\n",
              "      <th>4282</th>\n",
              "      <td>Revenge Wears Prada: The Devil Returns (The De...</td>\n",
              "      <td>2.628289</td>\n",
              "    </tr>\n",
              "    <tr>\n",
              "      <th>1408</th>\n",
              "      <td>The 3 Mistakes of My Life</td>\n",
              "      <td>2.512367</td>\n",
              "    </tr>\n",
              "    <tr>\n",
              "      <th>3549</th>\n",
              "      <td>The Almost Moon</td>\n",
              "      <td>2.626904</td>\n",
              "    </tr>\n",
              "    <tr>\n",
              "      <th>1792</th>\n",
              "      <td>One Night at the Call Center</td>\n",
              "      <td>2.077966</td>\n",
              "    </tr>\n",
              "  </tbody>\n",
              "</table>\n",
              "</div>"
            ],
            "text/plain": [
              "                                                  title    rating\n",
              "6393                                          The Fever  2.911330\n",
              "6473                               Seating Arrangements  2.942387\n",
              "5889         The Prophet of Yonwood (Book of Ember, #3)  2.910714\n",
              "3876                             Girls in White Dresses  2.937908\n",
              "2242                                  The Good Neighbor  2.981675\n",
              "9020                                               Lost  2.618090\n",
              "4613                             The Emperor's Children  2.793333\n",
              "4281                                              Pygmy  2.780645\n",
              "3145                                           Adultery  2.634921\n",
              "1821        Revolution 2020: Love, Corruption, Ambition  2.492537\n",
              "4008                                       Four Blondes  2.706422\n",
              "2045                                     The One & Only  2.893720\n",
              "2135                          The Jane Austen Book Club  2.934010\n",
              "1546                                  The Mermaid Chair  2.938578\n",
              "4282  Revenge Wears Prada: The Devil Returns (The De...  2.628289\n",
              "1408                          The 3 Mistakes of My Life  2.512367\n",
              "3549                                    The Almost Moon  2.626904\n",
              "1792                       One Night at the Call Center  2.077966"
            ]
          },
          "metadata": {
            "tags": []
          },
          "execution_count": 134
        }
      ]
    },
    {
      "cell_type": "code",
      "metadata": {
        "colab": {
          "base_uri": "https://localhost:8080/"
        },
        "id": "5p0mHE6spSGV",
        "outputId": "179ac585-e330-46c7-8f8a-90bf85eaf9a8"
      },
      "source": [
        "get_recommendations('The Mermaid Chair', tfidf_matrix)"
      ],
      "execution_count": 136,
      "outputs": [
        {
          "output_type": "execute_result",
          "data": {
            "text/plain": [
              "9662              Ya Yas in Bloom\n",
              "2687             The Peach Keeper\n",
              "56        The Secret Life of Bees\n",
              "6578              Gods in Alabama\n",
              "3183              The Sugar Queen\n",
              "436        The Invention of Wings\n",
              "2938                  Beach Music\n",
              "7707    A Grown-Up Kind of Pretty\n",
              "9169             Between, Georgia\n",
              "1184              Cold Sassy Tree\n",
              "Name: title, dtype: object"
            ]
          },
          "metadata": {
            "tags": []
          },
          "execution_count": 136
        }
      ]
    },
    {
      "cell_type": "markdown",
      "metadata": {
        "id": "5a4WoXH7p2XF"
      },
      "source": [
        "Honestly I dont read so much books but i went on the internet to check them on amazon and surpisingly some of my recommendations appears in amazon. I like to think that our recommendation are pretty good !"
      ]
    },
    {
      "cell_type": "markdown",
      "metadata": {
        "id": "GfM2ebjbqJzW"
      },
      "source": [
        "# 4. A collaborative filtering recommender"
      ]
    },
    {
      "cell_type": "markdown",
      "metadata": {
        "id": "XT3u2dXNE21_"
      },
      "source": [
        "## 1. Loading and parsing datasets"
      ]
    },
    {
      "cell_type": "markdown",
      "metadata": {
        "id": "MZIboUiCE_HM"
      },
      "source": [
        "No we are ready to read in each of the files and create an RDD consisting of parsed lines.\n",
        "\n"
      ]
    },
    {
      "cell_type": "code",
      "metadata": {
        "id": "vaia0eWLGzxO"
      },
      "source": [
        "!apt-get install openjdk-8-jdk-headless -qq > /dev/null\n",
        "!wget -q ftp://mirror.klaus-uwe.me/apache/spark/spark-2.4.7/spark-2.4.7-bin-hadoop2.7.tgz"
      ],
      "execution_count": 89,
      "outputs": []
    },
    {
      "cell_type": "code",
      "metadata": {
        "id": "iBO6xaDZGx-1"
      },
      "source": [
        "!tar xf spark-2.4.7-bin-hadoop2.7.tgz\n",
        "!pip install -q findspark"
      ],
      "execution_count": 90,
      "outputs": []
    },
    {
      "cell_type": "code",
      "metadata": {
        "id": "N97fF-dwGR23"
      },
      "source": [
        "import os\n",
        "os.environ[\"JAVA_HOME\"] = \"/usr/lib/jvm/java-8-openjdk-amd64\"\n",
        "os.environ[\"SPARK_HOME\"] = \"/content/spark-2.4.7-bin-hadoop2.7\""
      ],
      "execution_count": 91,
      "outputs": []
    },
    {
      "cell_type": "markdown",
      "metadata": {
        "id": "pXBdZsexMq-U"
      },
      "source": [
        "So let's load the raw ratings data. We need to filter out the header, included in each file."
      ]
    },
    {
      "cell_type": "markdown",
      "metadata": {
        "id": "iOYUVBlRYed2"
      },
      "source": [
        "We will change the CSV rating so the rating is a float and not a string. Otherwhise it cause problems with the ALS algorithm"
      ]
    },
    {
      "cell_type": "code",
      "metadata": {
        "colab": {
          "base_uri": "https://localhost:8080/",
          "height": 196
        },
        "id": "rSuUuKeRYkce",
        "outputId": "ade689e1-a1a7-456d-fca8-58c77e3c4082"
      },
      "source": [
        "rating = rating.astype({\"rating\": float})\n",
        "rating.head()"
      ],
      "execution_count": 92,
      "outputs": [
        {
          "output_type": "execute_result",
          "data": {
            "text/html": [
              "<div>\n",
              "<style scoped>\n",
              "    .dataframe tbody tr th:only-of-type {\n",
              "        vertical-align: middle;\n",
              "    }\n",
              "\n",
              "    .dataframe tbody tr th {\n",
              "        vertical-align: top;\n",
              "    }\n",
              "\n",
              "    .dataframe thead th {\n",
              "        text-align: right;\n",
              "    }\n",
              "</style>\n",
              "<table border=\"1\" class=\"dataframe\">\n",
              "  <thead>\n",
              "    <tr style=\"text-align: right;\">\n",
              "      <th></th>\n",
              "      <th>user_id</th>\n",
              "      <th>book_id</th>\n",
              "      <th>rating</th>\n",
              "    </tr>\n",
              "  </thead>\n",
              "  <tbody>\n",
              "    <tr>\n",
              "      <th>0</th>\n",
              "      <td>1</td>\n",
              "      <td>258</td>\n",
              "      <td>5.0</td>\n",
              "    </tr>\n",
              "    <tr>\n",
              "      <th>1</th>\n",
              "      <td>2</td>\n",
              "      <td>4081</td>\n",
              "      <td>4.0</td>\n",
              "    </tr>\n",
              "    <tr>\n",
              "      <th>2</th>\n",
              "      <td>2</td>\n",
              "      <td>260</td>\n",
              "      <td>5.0</td>\n",
              "    </tr>\n",
              "    <tr>\n",
              "      <th>3</th>\n",
              "      <td>2</td>\n",
              "      <td>9296</td>\n",
              "      <td>5.0</td>\n",
              "    </tr>\n",
              "    <tr>\n",
              "      <th>4</th>\n",
              "      <td>2</td>\n",
              "      <td>2318</td>\n",
              "      <td>3.0</td>\n",
              "    </tr>\n",
              "  </tbody>\n",
              "</table>\n",
              "</div>"
            ],
            "text/plain": [
              "   user_id  book_id  rating\n",
              "0        1      258     5.0\n",
              "1        2     4081     4.0\n",
              "2        2      260     5.0\n",
              "3        2     9296     5.0\n",
              "4        2     2318     3.0"
            ]
          },
          "metadata": {
            "tags": []
          },
          "execution_count": 92
        }
      ]
    },
    {
      "cell_type": "code",
      "metadata": {
        "colab": {
          "base_uri": "https://localhost:8080/",
          "height": 196
        },
        "id": "jpcRsBYiY7Rh",
        "outputId": "ba05a866-489f-4d02-a47f-106c7ac80e4e"
      },
      "source": [
        "rating.to_csv('/content/gdrive/MyDrive/UPM_ALUMNOS_2021/LSMA/RECOMMENDER SYSTEMS/Practice_3_Recommenders/goodbooks-10k-master/r2.csv', index = False)\n",
        "r2 = pd.read_csv('/content/gdrive/MyDrive/UPM_ALUMNOS_2021/LSMA/RECOMMENDER SYSTEMS/Practice_3_Recommenders/goodbooks-10k-master/r2.csv')\n",
        "r2.head()"
      ],
      "execution_count": 94,
      "outputs": [
        {
          "output_type": "execute_result",
          "data": {
            "text/html": [
              "<div>\n",
              "<style scoped>\n",
              "    .dataframe tbody tr th:only-of-type {\n",
              "        vertical-align: middle;\n",
              "    }\n",
              "\n",
              "    .dataframe tbody tr th {\n",
              "        vertical-align: top;\n",
              "    }\n",
              "\n",
              "    .dataframe thead th {\n",
              "        text-align: right;\n",
              "    }\n",
              "</style>\n",
              "<table border=\"1\" class=\"dataframe\">\n",
              "  <thead>\n",
              "    <tr style=\"text-align: right;\">\n",
              "      <th></th>\n",
              "      <th>user_id</th>\n",
              "      <th>book_id</th>\n",
              "      <th>rating</th>\n",
              "    </tr>\n",
              "  </thead>\n",
              "  <tbody>\n",
              "    <tr>\n",
              "      <th>0</th>\n",
              "      <td>1</td>\n",
              "      <td>258</td>\n",
              "      <td>5.0</td>\n",
              "    </tr>\n",
              "    <tr>\n",
              "      <th>1</th>\n",
              "      <td>2</td>\n",
              "      <td>4081</td>\n",
              "      <td>4.0</td>\n",
              "    </tr>\n",
              "    <tr>\n",
              "      <th>2</th>\n",
              "      <td>2</td>\n",
              "      <td>260</td>\n",
              "      <td>5.0</td>\n",
              "    </tr>\n",
              "    <tr>\n",
              "      <th>3</th>\n",
              "      <td>2</td>\n",
              "      <td>9296</td>\n",
              "      <td>5.0</td>\n",
              "    </tr>\n",
              "    <tr>\n",
              "      <th>4</th>\n",
              "      <td>2</td>\n",
              "      <td>2318</td>\n",
              "      <td>3.0</td>\n",
              "    </tr>\n",
              "  </tbody>\n",
              "</table>\n",
              "</div>"
            ],
            "text/plain": [
              "   user_id  book_id  rating\n",
              "0        1      258     5.0\n",
              "1        2     4081     4.0\n",
              "2        2      260     5.0\n",
              "3        2     9296     5.0\n",
              "4        2     2318     3.0"
            ]
          },
          "metadata": {
            "tags": []
          },
          "execution_count": 94
        }
      ]
    },
    {
      "cell_type": "code",
      "metadata": {
        "id": "LkUziIywqQZo"
      },
      "source": [
        "import findspark\n",
        "findspark.init()\n",
        "from pyspark import SparkContext, SparkConf\n",
        "\n",
        "sc = SparkContext.getOrCreate()\n",
        "\n",
        "ratings_file = os.path.join('/content/gdrive/MyDrive/UPM_ALUMNOS_2021/LSMA/RECOMMENDER SYSTEMS/Practice_3_Recommenders/goodbooks-10k-master' , 'r2.csv')\n",
        "\n",
        "ratings_raw_data = sc.textFile(ratings_file)\n",
        "ratings_raw_data_header = ratings_raw_data.take(1)[0]"
      ],
      "execution_count": 101,
      "outputs": []
    },
    {
      "cell_type": "code",
      "metadata": {
        "colab": {
          "base_uri": "https://localhost:8080/"
        },
        "id": "81fa7XY0KK8v",
        "outputId": "cd4e2a81-1570-4980-ebd0-110fa396309b"
      },
      "source": [
        "ratings_raw_data.take(1)"
      ],
      "execution_count": 102,
      "outputs": [
        {
          "output_type": "execute_result",
          "data": {
            "text/plain": [
              "['user_id,book_id,rating']"
            ]
          },
          "metadata": {
            "tags": []
          },
          "execution_count": 102
        }
      ]
    },
    {
      "cell_type": "markdown",
      "metadata": {
        "id": "9K5YlGeIMnoH"
      },
      "source": [
        "Now we can parse the raw data into a new RDD.\n",
        "\n"
      ]
    },
    {
      "cell_type": "code",
      "metadata": {
        "id": "BQ0Vw8XHMby6"
      },
      "source": [
        "ratings_data = ratings_raw_data.filter(lambda line: line!=ratings_raw_data_header)\\\n",
        "  .map(lambda line: line.split(\",\")).map(lambda tokens: (tokens[0],tokens[1],tokens[2])).cache()"
      ],
      "execution_count": 103,
      "outputs": []
    },
    {
      "cell_type": "code",
      "metadata": {
        "colab": {
          "base_uri": "https://localhost:8080/"
        },
        "id": "S2gH6pRtbSDc",
        "outputId": "bac51a14-65fe-42dd-a57e-431fd71d7982"
      },
      "source": [
        "ratings_data.take(3)"
      ],
      "execution_count": 104,
      "outputs": [
        {
          "output_type": "execute_result",
          "data": {
            "text/plain": [
              "[('1', '258', '5.0'), ('2', '4081', '4.0'), ('2', '260', '5.0')]"
            ]
          },
          "metadata": {
            "tags": []
          },
          "execution_count": 104
        }
      ]
    },
    {
      "cell_type": "code",
      "metadata": {
        "colab": {
          "base_uri": "https://localhost:8080/"
        },
        "id": "0ihrNtj_bzWO",
        "outputId": "fe63f688-c66c-46c4-98a3-b621a4e67c84"
      },
      "source": [
        "type(ratings_data.take(1))"
      ],
      "execution_count": 105,
      "outputs": [
        {
          "output_type": "execute_result",
          "data": {
            "text/plain": [
              "list"
            ]
          },
          "metadata": {
            "tags": []
          },
          "execution_count": 105
        }
      ]
    },
    {
      "cell_type": "markdown",
      "metadata": {
        "id": "UARua59YNVgH"
      },
      "source": [
        "We do the same thing for the `books.csv` file"
      ]
    },
    {
      "cell_type": "markdown",
      "metadata": {
        "id": "avT-X580Vti2"
      },
      "source": [
        "We do a new CSV file with just the books ID and the Name because I had problems with the titles not being all between ' ' symbols. "
      ]
    },
    {
      "cell_type": "code",
      "metadata": {
        "id": "aM6zagjaUGjx"
      },
      "source": [
        "b = b[['book_id','title']]\n",
        "b.head()\n",
        "b.to_csv('/content/gdrive/MyDrive/UPM_ALUMNOS_2021/LSMA/RECOMMENDER SYSTEMS/Practice_3_Recommenders/goodbooks-10k-master/books2.csv', index = False)"
      ],
      "execution_count": 106,
      "outputs": []
    },
    {
      "cell_type": "code",
      "metadata": {
        "colab": {
          "base_uri": "https://localhost:8080/",
          "height": 196
        },
        "id": "wloikZGXVCQy",
        "outputId": "0247d8ca-5826-409d-990d-3942075817a7"
      },
      "source": [
        "books2 = pd.read_csv('/content/gdrive/MyDrive/UPM_ALUMNOS_2021/LSMA/RECOMMENDER SYSTEMS/Practice_3_Recommenders/goodbooks-10k-master/books2.csv')\n",
        "books2.head()"
      ],
      "execution_count": 107,
      "outputs": [
        {
          "output_type": "execute_result",
          "data": {
            "text/html": [
              "<div>\n",
              "<style scoped>\n",
              "    .dataframe tbody tr th:only-of-type {\n",
              "        vertical-align: middle;\n",
              "    }\n",
              "\n",
              "    .dataframe tbody tr th {\n",
              "        vertical-align: top;\n",
              "    }\n",
              "\n",
              "    .dataframe thead th {\n",
              "        text-align: right;\n",
              "    }\n",
              "</style>\n",
              "<table border=\"1\" class=\"dataframe\">\n",
              "  <thead>\n",
              "    <tr style=\"text-align: right;\">\n",
              "      <th></th>\n",
              "      <th>book_id</th>\n",
              "      <th>title</th>\n",
              "    </tr>\n",
              "  </thead>\n",
              "  <tbody>\n",
              "    <tr>\n",
              "      <th>0</th>\n",
              "      <td>1</td>\n",
              "      <td>The Hunger Games (The Hunger Games, #1)</td>\n",
              "    </tr>\n",
              "    <tr>\n",
              "      <th>1</th>\n",
              "      <td>2</td>\n",
              "      <td>Harry Potter and the Sorcerer's Stone (Harry P...</td>\n",
              "    </tr>\n",
              "    <tr>\n",
              "      <th>2</th>\n",
              "      <td>3</td>\n",
              "      <td>Twilight (Twilight, #1)</td>\n",
              "    </tr>\n",
              "    <tr>\n",
              "      <th>3</th>\n",
              "      <td>4</td>\n",
              "      <td>To Kill a Mockingbird</td>\n",
              "    </tr>\n",
              "    <tr>\n",
              "      <th>4</th>\n",
              "      <td>5</td>\n",
              "      <td>The Great Gatsby</td>\n",
              "    </tr>\n",
              "  </tbody>\n",
              "</table>\n",
              "</div>"
            ],
            "text/plain": [
              "   book_id                                              title\n",
              "0        1            The Hunger Games (The Hunger Games, #1)\n",
              "1        2  Harry Potter and the Sorcerer's Stone (Harry P...\n",
              "2        3                            Twilight (Twilight, #1)\n",
              "3        4                              To Kill a Mockingbird\n",
              "4        5                                   The Great Gatsby"
            ]
          },
          "metadata": {
            "tags": []
          },
          "execution_count": 107
        }
      ]
    },
    {
      "cell_type": "code",
      "metadata": {
        "colab": {
          "base_uri": "https://localhost:8080/"
        },
        "id": "RzSHuAB-NkEA",
        "outputId": "ff1ceb97-f69c-4523-a48b-362ed2073f0c"
      },
      "source": [
        "books_file = os.path.join('/content/gdrive/MyDrive/UPM_ALUMNOS_2021/LSMA/RECOMMENDER SYSTEMS/Practice_3_Recommenders/goodbooks-10k-master' , 'books2.csv')\n",
        "\n",
        "books_raw_data = sc.textFile(books_file)\n",
        "\n",
        "books_raw_data_header = books_raw_data.take(1)[0]\n",
        "\n",
        "books_data = books_raw_data.filter(lambda line: line!=books_raw_data_header)\\\n",
        "  .map(lambda line: line.split(',')).map(lambda tokens: (tokens[0],tokens[1])).cache()\n",
        "\n",
        "books_data.take(8)"
      ],
      "execution_count": 108,
      "outputs": [
        {
          "output_type": "execute_result",
          "data": {
            "text/plain": [
              "[('1', '\"The Hunger Games (The Hunger Games'),\n",
              " ('2', '\"Harry Potter and the Sorcerer\\'s Stone (Harry Potter'),\n",
              " ('3', '\"Twilight (Twilight'),\n",
              " ('4', 'To Kill a Mockingbird'),\n",
              " ('5', 'The Great Gatsby'),\n",
              " ('6', 'The Fault in Our Stars'),\n",
              " ('7', 'The Hobbit'),\n",
              " ('8', 'The Catcher in the Rye')]"
            ]
          },
          "metadata": {
            "tags": []
          },
          "execution_count": 108
        }
      ]
    },
    {
      "cell_type": "markdown",
      "metadata": {
        "id": "wi_lD6lIREUN"
      },
      "source": [
        "## 2. Selecting the alternating Least Square Parameters"
      ]
    },
    {
      "cell_type": "markdown",
      "metadata": {
        "id": "qhWILd-XRKUH"
      },
      "source": [
        "We split the data into train, validation and test."
      ]
    },
    {
      "cell_type": "code",
      "metadata": {
        "id": "hrRO6sIIHWl2"
      },
      "source": [
        "training_RDD, validation_RDD, test_RDD = ratings_data.randomSplit([6, 2, 2], seed=0)\n",
        "validation_for_predict_RDD = validation_RDD.map(lambda x: (x[0], x[1]))\n",
        "test_for_predict_RDD = test_RDD.map(lambda x: (x[0], x[1]))"
      ],
      "execution_count": 109,
      "outputs": []
    },
    {
      "cell_type": "code",
      "metadata": {
        "colab": {
          "base_uri": "https://localhost:8080/"
        },
        "id": "tv4liJ-sb4V7",
        "outputId": "088430a9-2483-4890-cb19-a7c8a88ba482"
      },
      "source": [
        "training_RDD.take(1)"
      ],
      "execution_count": 110,
      "outputs": [
        {
          "output_type": "execute_result",
          "data": {
            "text/plain": [
              "[('1', '258', '5.0')]"
            ]
          },
          "metadata": {
            "tags": []
          },
          "execution_count": 110
        }
      ]
    },
    {
      "cell_type": "markdown",
      "metadata": {
        "id": "US9kOEtHRuFe"
      },
      "source": [
        "Now we can proceed with the training phase. "
      ]
    },
    {
      "cell_type": "markdown",
      "metadata": {
        "id": "2TRxUKMrg-jZ"
      },
      "source": [
        "I try for 4 different rank to have the best model possible"
      ]
    },
    {
      "cell_type": "code",
      "metadata": {
        "colab": {
          "base_uri": "https://localhost:8080/"
        },
        "id": "dJ8TUN1IRv8F",
        "outputId": "309cca41-97b3-4d11-9417-b99adc1ccea3"
      },
      "source": [
        "from pyspark.mllib.recommendation import ALS\n",
        "import math\n",
        "\n",
        "seed = 5\n",
        "iterations = 10\n",
        "regularization_parameter = 0.1\n",
        "ranks = [4, 8, 12, 20]\n",
        "errors = [0, 0, 0, 0]\n",
        "err = 0\n",
        "tolerance = 0.02\n",
        "\n",
        "min_error = float('inf')\n",
        "best_rank = -1\n",
        "best_iteration = -1\n",
        "for rank in ranks:\n",
        "    model = ALS.train(training_RDD, rank, seed=seed, iterations=iterations, lambda_=regularization_parameter)\n",
        "    predictions = model.predictAll(validation_for_predict_RDD).map(lambda r: ((r[0], r[1]), r[2]))\n",
        "    rates_and_preds = validation_RDD.map(lambda r: ((int(r[0]), int(r[1])), float(r[2]))).join(predictions)\n",
        "    error = math.sqrt(rates_and_preds.map(lambda r: (r[1][0] - r[1][1])**2).mean())\n",
        "    errors[err] = error\n",
        "    err += 1\n",
        "    print('For rank %s the RMSE is %s' % (rank, error))\n",
        "    if error < min_error:\n",
        "        min_error = error\n",
        "        best_rank = rank\n",
        "\n",
        "print('The best model was trained with rank %s' % best_rank)"
      ],
      "execution_count": 111,
      "outputs": [
        {
          "output_type": "stream",
          "text": [
            "For rank 4 the RMSE is 0.8354914853035305\n",
            "For rank 8 the RMSE is 0.8280207082238561\n",
            "For rank 12 the RMSE is 0.8254628865127762\n",
            "For rank 20 the RMSE is 0.8276197424008557\n",
            "The best model was trained with rank 12\n"
          ],
          "name": "stdout"
        }
      ]
    },
    {
      "cell_type": "code",
      "metadata": {
        "colab": {
          "base_uri": "https://localhost:8080/"
        },
        "id": "wVBtPRAGXJk4",
        "outputId": "09313264-6523-4db0-f74d-9f852548e253"
      },
      "source": [
        "predictions.take(3)"
      ],
      "execution_count": 112,
      "outputs": [
        {
          "output_type": "execute_result",
          "data": {
            "text/plain": [
              "[((41234, 148), 3.5557450823963146),\n",
              " ((41234, 9864), 4.089118107781834),\n",
              " ((41234, 178), 3.9678617984343907)]"
            ]
          },
          "metadata": {
            "tags": []
          },
          "execution_count": 112
        }
      ]
    },
    {
      "cell_type": "code",
      "metadata": {
        "colab": {
          "base_uri": "https://localhost:8080/"
        },
        "id": "nw2j3kJVeZcD",
        "outputId": "08ff41fc-a639-43d1-9abc-833675ca2f91"
      },
      "source": [
        "rates_and_preds.take(3)"
      ],
      "execution_count": 113,
      "outputs": [
        {
          "output_type": "execute_result",
          "data": {
            "text/plain": [
              "[((4, 27), (5.0, 4.141817421252146)),\n",
              " ((4, 145), (2.0, 2.8794172901747164)),\n",
              " ((4, 86), (4.0, 3.540400028258471))]"
            ]
          },
          "metadata": {
            "tags": []
          },
          "execution_count": 113
        }
      ]
    },
    {
      "cell_type": "markdown",
      "metadata": {
        "id": "c8MB_QJGfGIA"
      },
      "source": [
        "Now we test our model "
      ]
    },
    {
      "cell_type": "code",
      "metadata": {
        "colab": {
          "base_uri": "https://localhost:8080/"
        },
        "id": "QDddAd0hfIg-",
        "outputId": "bb9fdaec-ea7e-44ff-d3c6-0d49496b0a2d"
      },
      "source": [
        "model = ALS.train(training_RDD, best_rank, seed=seed, iterations=iterations, lambda_=regularization_parameter)\n",
        "predictions = model.predictAll(test_for_predict_RDD).map(lambda r: ((r[0], r[1]), r[2]))\n",
        "rates_and_preds = test_RDD.map(lambda r: ((int(r[0]), int(r[1])), float(r[2]))).join(predictions)\n",
        "error = math.sqrt(rates_and_preds.map(lambda r: (r[1][0] - r[1][1])**2).mean())\n",
        "    \n",
        "print('For testing data the RMSE is %s' % (error))"
      ],
      "execution_count": 114,
      "outputs": [
        {
          "output_type": "stream",
          "text": [
            "For testing data the RMSE is 0.8246513973164318\n"
          ],
          "name": "stdout"
        }
      ]
    },
    {
      "cell_type": "markdown",
      "metadata": {
        "id": "hhc3s0hlkfa3"
      },
      "source": [
        "We have a RMSE that is lower for the test than for our prediction, so we can say that the model is pretty good."
      ]
    },
    {
      "cell_type": "markdown",
      "metadata": {
        "id": "0S33Coy1hDKw"
      },
      "source": [
        "## 3. Building the recommender from the Model"
      ]
    },
    {
      "cell_type": "markdown",
      "metadata": {
        "id": "-jqrvfbQoTRw"
      },
      "source": [
        "### Creating frames with count of review and average rate for every books"
      ]
    },
    {
      "cell_type": "markdown",
      "metadata": {
        "id": "VaMLiOwdiNWN"
      },
      "source": [
        "Let's reload the books complete file"
      ]
    },
    {
      "cell_type": "code",
      "metadata": {
        "id": "ti1rkMqVhIbr"
      },
      "source": [
        "books_file = os.path.join('/content/gdrive/MyDrive/UPM_ALUMNOS_2021/LSMA/RECOMMENDER SYSTEMS/Practice_3_Recommenders/goodbooks-10k-master', 'books2.csv')\n",
        "books_raw_data = sc.textFile(books_file)\n",
        "books_raw_data_header = books_raw_data.take(1)[0]\n",
        "\n",
        "# Parse\n",
        "books_data = books_raw_data.filter(lambda line: line!=books_raw_data_header)\\\n",
        "    .map(lambda line: line.split(\",\")).map(lambda tokens: (int(tokens[0]),tokens[1])).cache()\n",
        "\n"
      ],
      "execution_count": 115,
      "outputs": []
    },
    {
      "cell_type": "code",
      "metadata": {
        "colab": {
          "base_uri": "https://localhost:8080/"
        },
        "id": "kk7L_dZ4k40y",
        "outputId": "055a8aee-a0e9-4e4c-af0a-7ac0c8a691b2"
      },
      "source": [
        "books_data.take(1)"
      ],
      "execution_count": 116,
      "outputs": [
        {
          "output_type": "execute_result",
          "data": {
            "text/plain": [
              "[(1, '\"The Hunger Games (The Hunger Games')]"
            ]
          },
          "metadata": {
            "tags": []
          },
          "execution_count": 116
        }
      ]
    },
    {
      "cell_type": "code",
      "metadata": {
        "colab": {
          "base_uri": "https://localhost:8080/"
        },
        "id": "46_cDuJWkxLc",
        "outputId": "707b02e7-4272-4c94-ef52-f13c2c81cb44"
      },
      "source": [
        "books_titles = books_data.map(lambda x: (int(x[0]),x[1]))\n",
        "    \n",
        "print(\"There are %s books in the complete dataset\" % (books_titles.count()))"
      ],
      "execution_count": 117,
      "outputs": [
        {
          "output_type": "stream",
          "text": [
            "There are 10000 books in the complete dataset\n"
          ],
          "name": "stdout"
        }
      ]
    },
    {
      "cell_type": "markdown",
      "metadata": {
        "id": "ybs4bb7NjRaR"
      },
      "source": [
        "We create a function to count the number of rating per movies."
      ]
    },
    {
      "cell_type": "code",
      "metadata": {
        "id": "UOGgHpaUnTkb"
      },
      "source": [
        "ratings_data_2 = ratings_raw_data.filter(lambda line: line!=ratings_raw_data_header)\\\n",
        "  .map(lambda line: line.split(\",\")).map(lambda tokens: (int(tokens[0]),int(tokens[1]),float(tokens[2]))).cache()"
      ],
      "execution_count": 118,
      "outputs": []
    },
    {
      "cell_type": "code",
      "metadata": {
        "id": "3AmhJC9tjIN0"
      },
      "source": [
        "def get_counts_and_averages(ID_and_ratings_tuple):\n",
        "    nratings = len(ID_and_ratings_tuple[1])\n",
        "    return ID_and_ratings_tuple[0], (nratings, float(sum(x for x in ID_and_ratings_tuple[1]))/nratings)"
      ],
      "execution_count": 119,
      "outputs": []
    },
    {
      "cell_type": "code",
      "metadata": {
        "id": "VoKjyvGNjgZ6"
      },
      "source": [
        "books_ID_with_ratings_RDD = (ratings_data_2.map(lambda x: (x[1], x[2])).groupByKey())\n",
        "books_ID_with_avg_ratings_RDD = books_ID_with_ratings_RDD.map(get_counts_and_averages)\n",
        "books_rating_counts_RDD = books_ID_with_avg_ratings_RDD.map(lambda x: (x[0], x[1][0]))"
      ],
      "execution_count": 120,
      "outputs": []
    },
    {
      "cell_type": "code",
      "metadata": {
        "colab": {
          "base_uri": "https://localhost:8080/"
        },
        "id": "Nx03Mr7Wmzb9",
        "outputId": "5c38c36f-83f9-4ab3-c59f-b0f98df4eaa8"
      },
      "source": [
        "ratings_data_2.take(2)"
      ],
      "execution_count": 121,
      "outputs": [
        {
          "output_type": "execute_result",
          "data": {
            "text/plain": [
              "[(1, 258, 5.0), (2, 4081, 4.0)]"
            ]
          },
          "metadata": {
            "tags": []
          },
          "execution_count": 121
        }
      ]
    },
    {
      "cell_type": "code",
      "metadata": {
        "colab": {
          "base_uri": "https://localhost:8080/"
        },
        "id": "Rk9z2G_plgKm",
        "outputId": "1de77704-3cba-4ba5-a2d7-4f3b64f07af6"
      },
      "source": [
        "books_ID_with_ratings_RDD.take(1)"
      ],
      "execution_count": 122,
      "outputs": [
        {
          "output_type": "execute_result",
          "data": {
            "text/plain": [
              "[(258, <pyspark.resultiterable.ResultIterable at 0x7f2aa8826890>)]"
            ]
          },
          "metadata": {
            "tags": []
          },
          "execution_count": 122
        }
      ]
    },
    {
      "cell_type": "code",
      "metadata": {
        "colab": {
          "base_uri": "https://localhost:8080/"
        },
        "id": "0hAC03NYoEqK",
        "outputId": "4eae2de1-50e6-4682-b18d-c4f2a3c6283d"
      },
      "source": [
        "books_ID_with_avg_ratings_RDD.take(1)"
      ],
      "execution_count": 123,
      "outputs": [
        {
          "output_type": "execute_result",
          "data": {
            "text/plain": [
              "[(258, (3531, 4.105919003115265))]"
            ]
          },
          "metadata": {
            "tags": []
          },
          "execution_count": 123
        }
      ]
    },
    {
      "cell_type": "code",
      "metadata": {
        "colab": {
          "base_uri": "https://localhost:8080/"
        },
        "id": "CN8dnXl9oGJd",
        "outputId": "59a5e367-a7b9-4e38-9a27-9b83cbb35b79"
      },
      "source": [
        "books_rating_counts_RDD.take(1)"
      ],
      "execution_count": 124,
      "outputs": [
        {
          "output_type": "execute_result",
          "data": {
            "text/plain": [
              "[(258, 3531)]"
            ]
          },
          "metadata": {
            "tags": []
          },
          "execution_count": 124
        }
      ]
    },
    {
      "cell_type": "markdown",
      "metadata": {
        "id": "O3XTDt1vogQ_"
      },
      "source": [
        "### Adding a New user ratings"
      ]
    },
    {
      "cell_type": "code",
      "metadata": {
        "colab": {
          "base_uri": "https://localhost:8080/"
        },
        "id": "0HjxbBD0olPf",
        "outputId": "3dd42b8a-549a-4c78-cacc-ccef99d6043a"
      },
      "source": [
        "new_user_ID = 0 # Because ID 0 is not use in the dataset for the users.\n",
        "\n",
        "# The format of each line is (userID, BookID, rating)\n",
        "new_user_ratings = [\n",
        "     (0,49,3), # New Moon (Twilight, #2)\n",
        "     (0,221,4), # A Child Called \"it\"\n",
        "     (0,354,2), # Beloved\n",
        "     (0,5011,5), # Delicious !\n",
        "     (0,9142,4), # THe Christmas List\n",
        "     (0,3722,4.4), # Storia della bambina perduta\n",
        "    ]\n",
        "new_user_ratings_RDD = sc.parallelize(new_user_ratings)\n",
        "print('New user ratings: %s' % new_user_ratings_RDD.take(6))"
      ],
      "execution_count": 125,
      "outputs": [
        {
          "output_type": "stream",
          "text": [
            "New user ratings: [(0, 49, 3), (0, 221, 4), (0, 354, 2), (0, 5011, 5), (0, 9142, 4), (0, 3722, 4.4)]\n"
          ],
          "name": "stdout"
        }
      ]
    },
    {
      "cell_type": "markdown",
      "metadata": {
        "id": "uLhjdkqcq1Qg"
      },
      "source": [
        "Now we add them to the data we will use to train our recommender model. We use Spark's `union()` transformation for this.  "
      ]
    },
    {
      "cell_type": "code",
      "metadata": {
        "id": "4Ct3_eehq1tK"
      },
      "source": [
        "new_ratings_RDD = ratings_data_2.union(new_user_ratings_RDD)"
      ],
      "execution_count": 126,
      "outputs": []
    },
    {
      "cell_type": "markdown",
      "metadata": {
        "id": "pgLHVp5irZKW"
      },
      "source": [
        "And finally we train the ALS model using all the parameters we selected before"
      ]
    },
    {
      "cell_type": "code",
      "metadata": {
        "colab": {
          "base_uri": "https://localhost:8080/"
        },
        "id": "Yhl2r3Z7q-GE",
        "outputId": "e0fda6cd-5521-4a39-cee0-f65c4e5bff53"
      },
      "source": [
        "from time import time\n",
        "\n",
        "t0 = time()\n",
        "new_ratings_model = ALS.train(new_ratings_RDD, best_rank, seed=seed, \n",
        "                              iterations=iterations, lambda_=regularization_parameter)\n",
        "tt = time() - t0\n",
        "\n",
        "print(\"New model trained in %s seconds\" % round(tt,3))"
      ],
      "execution_count": 127,
      "outputs": [
        {
          "output_type": "stream",
          "text": [
            "New model trained in 44.836 seconds\n"
          ],
          "name": "stdout"
        }
      ]
    },
    {
      "cell_type": "markdown",
      "metadata": {
        "id": "HH0Pt5MOru-P"
      },
      "source": [
        "\n",
        "The model take a long time to be trained, maybe we shouldn't update the model for every new user rating."
      ]
    },
    {
      "cell_type": "markdown",
      "metadata": {
        "id": "u2fKADRDrqO8"
      },
      "source": [
        "### Getting Recommendations "
      ]
    },
    {
      "cell_type": "markdown",
      "metadata": {
        "id": "9OlKWczbsCrd"
      },
      "source": [
        "Let's now get some recommendations! For that we will get an RDD with all the books the new user hasn't rated yet."
      ]
    },
    {
      "cell_type": "code",
      "metadata": {
        "id": "nrhNYhQ_ruU6"
      },
      "source": [
        "new_user_ratings_ids = map(lambda x: x[1], new_user_ratings) # get just books IDs\n",
        "# keep just those not on the ID list (thanks Lei Li for spotting the error!)\n",
        "new_user_unrated_books_RDD = (books_data.filter(lambda x: x[0] not in new_user_ratings_ids).map(lambda x: (new_user_ID, x[0])))\n",
        "\n",
        "# Use the input RDD, new_user_unrated_books_RDD, with new_ratings_model.predictAll() to predict new ratings for the books\n",
        "new_user_recommendations_RDD = new_ratings_model.predictAll(new_user_unrated_books_RDD)"
      ],
      "execution_count": 128,
      "outputs": []
    },
    {
      "cell_type": "markdown",
      "metadata": {
        "id": "V5Oq9GhxtG6K"
      },
      "source": [
        "We have our recommendations ready. Now we can print out the 25 books with the highest predicted ratings. And join them with the books RDD to get the titles, and ratings count in order to get books with a minimum number of counts. First we will do the join and see what does the result looks like."
      ]
    },
    {
      "cell_type": "code",
      "metadata": {
        "colab": {
          "base_uri": "https://localhost:8080/"
        },
        "id": "UhpQ5dvItILJ",
        "outputId": "01e88f16-c537-46d4-91fe-2cda82141e60"
      },
      "source": [
        "# Transform new_user_recommendations_RDD into pairs of the form (Book ID, Predicted Rating)\n",
        "new_user_recommendations_rating_RDD = new_user_recommendations_RDD.map(lambda x: (x.product, x.rating))\n",
        "new_user_recommendations_rating_title_and_count_RDD = \\\n",
        "    new_user_recommendations_rating_RDD.join(books_titles).join(books_rating_counts_RDD)\n",
        "new_user_recommendations_rating_title_and_count_RDD.take(3)"
      ],
      "execution_count": 129,
      "outputs": [
        {
          "output_type": "execute_result",
          "data": {
            "text/plain": [
              "[(7532, ((3.4025850242803903, '\"Rusty Nailed (Cocktail'), 180)),\n",
              " (140,\n",
              "  ((4.246922226098049, '\"The Girl Who Kicked the Hornet\\'s Nest (Millennium'),\n",
              "   6702)),\n",
              " (1596, ((3.543873280681709, 'Gray Mountain'), 704))]"
            ]
          },
          "metadata": {
            "tags": []
          },
          "execution_count": 129
        }
      ]
    },
    {
      "cell_type": "code",
      "metadata": {
        "id": "PB2pwWBAtyEN"
      },
      "source": [
        "new_user_recommendations_rating_title_and_count_RDD = \\\n",
        "    new_user_recommendations_rating_title_and_count_RDD.map(lambda r: (r[1][0][1], r[1][0][0], r[1][1]))"
      ],
      "execution_count": 130,
      "outputs": []
    },
    {
      "cell_type": "markdown",
      "metadata": {
        "id": "OLAf2-artyid"
      },
      "source": [
        "Now we have (Title, Rating, Ratings count) "
      ]
    },
    {
      "cell_type": "code",
      "metadata": {
        "colab": {
          "base_uri": "https://localhost:8080/"
        },
        "id": "VNBIBgnpt5ZB",
        "outputId": "aaf15b70-14ec-4a27-9426-2758bedbb478"
      },
      "source": [
        "new_user_recommendations_rating_title_and_count_RDD.take(1)"
      ],
      "execution_count": 131,
      "outputs": [
        {
          "output_type": "execute_result",
          "data": {
            "text/plain": [
              "[('\"Rusty Nailed (Cocktail', 3.4025850242803903, 180)]"
            ]
          },
          "metadata": {
            "tags": []
          },
          "execution_count": 131
        }
      ]
    },
    {
      "cell_type": "markdown",
      "metadata": {
        "id": "QaTv62-2uA4K"
      },
      "source": [
        "Finally, get the highest rated recommendations for the new user, filtering out books with less than 70 ratings."
      ]
    },
    {
      "cell_type": "code",
      "metadata": {
        "colab": {
          "base_uri": "https://localhost:8080/"
        },
        "id": "fZN0wPjSuBj5",
        "outputId": "617afdad-907c-4631-9a74-2a96ea79cde2"
      },
      "source": [
        "top_books = new_user_recommendations_rating_title_and_count_RDD.filter(lambda r: r[2]>=70).takeOrdered(25, key=lambda x: -x[1])\n",
        "\n",
        "print(('TOP recommended movies (with more than 25 reviews):\\n%s' %\n",
        "        '\\n'.join(map(str, top_books))))"
      ],
      "execution_count": 132,
      "outputs": [
        {
          "output_type": "stream",
          "text": [
            "TOP recommended movies (with more than 25 reviews):\n",
            "('\"Words of Radiance (The Stormlight Archive', 5.067581053553196, 1373)\n",
            "('Jesus the Christ', 5.066931983807228, 238)\n",
            "('Preach My Gospel: A Guide To Missionary Service', 5.050933265715333, 112)\n",
            "('The Book of Mormon: Another Testament of Jesus Christ', 4.9960202459940195, 735)\n",
            "('Harry Potter and the Chamber of Secrets: Sheet Music for Flute with C.D', 4.95441277029482, 297)\n",
            "('\"Harry Potter Boxset (Harry Potter', 4.9364794172335404, 1915)\n",
            "('\"Harry Potter Collection (Harry Potter', 4.933028280473213, 233)\n",
            "('\"The Way of Kings', 4.931363363084126, 170)\n",
            "('\"The Way of Kings (The Stormlight Archive', 4.905465212705616, 1789)\n",
            "('\"Mistborn Trilogy Boxed Set (Mistborn', 4.887565984517729, 439)\n",
            "('ESV Study Bible', 4.872514752800949, 88)\n",
            "('Scaredy Squirrel (Scaredy Squirrel)', 4.866377928190396, 111)\n",
            "('\"Morning Star (Red Rising', 4.8615255271335425, 807)\n",
            "('The Holy Bible: English Standard Version', 4.837631838458438, 99)\n",
            "('\"The Crimson Crown (Seven Realms', 4.83755037088611, 302)\n",
            "('\"A Dog\\'s Journey (A Dog\\'s Purpose', 4.835222902105483, 130)\n",
            "('\"Harry Potter Boxed Set', 4.83137719102509, 285)\n",
            "('\"The Hero of Ages (Mistborn', 4.828833847309632, 1849)\n",
            "('\"A Court of Mist and Fury (A Court of Thorns and Roses', 4.827802882394478, 933)\n",
            "('\"The King of Attolia (The Queen\\'s Thief', 4.827760089074813, 220)\n",
            "('\"Gathering Darkness (Falling Kingdoms', 4.807994847748031, 128)\n",
            "('\"Harry Potter and the Deathly Hallows (Harry Potter', 4.8029829888464235, 15304)\n",
            "('Holy Bible: New International Version', 4.802385118287228, 350)\n",
            "('\"The Final Empire (Mistborn', 4.800257605127216, 2626)\n",
            "('\"The Harry Potter Collection 1-4 (Harry Potter', 4.792081778275868, 560)\n"
          ],
          "name": "stdout"
        }
      ]
    },
    {
      "cell_type": "markdown",
      "metadata": {
        "id": "jYwTERemuhgN"
      },
      "source": [
        "We can see that the model can predict ratings above 5, but I don't think it is a problem since we want to recommand the best books. A little Saturation and this could be proposed in the front end. "
      ]
    },
    {
      "cell_type": "markdown",
      "metadata": {
        "id": "ijpTs02QvMii"
      },
      "source": [
        "Conclusion: \n",
        "We now have create a collaborative filtering recommender engine. The engine find hes best performance when user got a minima 6 ratings. The system will get better as it is used. "
      ]
    }
  ]
}
